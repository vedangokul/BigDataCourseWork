{
 "cells": [
  {
   "cell_type": "code",
   "execution_count": 1,
   "id": "fb13d2bb",
   "metadata": {},
   "outputs": [],
   "source": [
    "import findspark\n",
    "findspark.init()\n",
    "import pyspark\n",
    "from pyspark.sql import SparkSession\n",
    "spark=SparkSession.builder.appName('BDCW').getOrCreate()"
   ]
  },
  {
   "cell_type": "code",
   "execution_count": 2,
   "id": "60eafb7d",
   "metadata": {},
   "outputs": [],
   "source": [
    "from pyspark.sql import SQLContext\n",
    "sqlContext = SQLContext(spark)"
   ]
  },
  {
   "cell_type": "code",
   "execution_count": 3,
   "id": "d7b1f067",
   "metadata": {},
   "outputs": [],
   "source": [
    "import pyspark.sql.functions as Func\n",
    "import pyspark.sql.types as Ty"
   ]
  },
  {
   "cell_type": "code",
   "execution_count": 4,
   "id": "756b8cee",
   "metadata": {},
   "outputs": [
    {
     "name": "stdout",
     "output_type": "stream",
     "text": [
      "+----------+--------+-------+-------+--------+-----------+--------+-----------+-------------+----------+----------+------------+------------+-----------+-----------+-----------+-----------+--------+--------+-------+-------+---------+------------+\n",
      "|      Date|Location|MinTemp|MaxTemp|Rainfall|Evaporation|Sunshine|WindGustDir|WindGustSpeed|WindDir9am|WindDir3pm|WindSpeed9am|WindSpeed3pm|Humidity9am|Humidity3pm|Pressure9am|Pressure3pm|Cloud9am|Cloud3pm|Temp9am|Temp3pm|RainToday|RainTomorrow|\n",
      "+----------+--------+-------+-------+--------+-----------+--------+-----------+-------------+----------+----------+------------+------------+-----------+-----------+-----------+-----------+--------+--------+-------+-------+---------+------------+\n",
      "|2008-12-01|  Albury|   13.4|   22.9|     0.6|         NA|      NA|          W|           44|         W|       WNW|          20|          24|         71|         22|     1007.7|     1007.1|       8|      NA|   16.9|   21.8|       No|          No|\n",
      "|2008-12-02|  Albury|    7.4|   25.1|       0|         NA|      NA|        WNW|           44|       NNW|       WSW|           4|          22|         44|         25|     1010.6|     1007.8|      NA|      NA|   17.2|   24.3|       No|          No|\n",
      "|2008-12-03|  Albury|   12.9|   25.7|       0|         NA|      NA|        WSW|           46|         W|       WSW|          19|          26|         38|         30|     1007.6|     1008.7|      NA|       2|     21|   23.2|       No|          No|\n",
      "|2008-12-04|  Albury|    9.2|     28|       0|         NA|      NA|         NE|           24|        SE|         E|          11|           9|         45|         16|     1017.6|     1012.8|      NA|      NA|   18.1|   26.5|       No|          No|\n",
      "|2008-12-05|  Albury|   17.5|   32.3|       1|         NA|      NA|          W|           41|       ENE|        NW|           7|          20|         82|         33|     1010.8|       1006|       7|       8|   17.8|   29.7|       No|          No|\n",
      "+----------+--------+-------+-------+--------+-----------+--------+-----------+-------------+----------+----------+------------+------------+-----------+-----------+-----------+-----------+--------+--------+-------+-------+---------+------------+\n",
      "only showing top 5 rows\n",
      "\n"
     ]
    }
   ],
   "source": [
    "rain_df=spark.read.csv('weatherAUS.csv',header=True,inferSchema=True)\n",
    "rain_df.show(5)"
   ]
  },
  {
   "cell_type": "code",
   "execution_count": 5,
   "id": "84f234dc",
   "metadata": {},
   "outputs": [
    {
     "name": "stdout",
     "output_type": "stream",
     "text": [
      "['Date', 'Location', 'MinTemp', 'MaxTemp', 'Rainfall', 'Evaporation', 'Sunshine', 'WindGustDir', 'WindGustSpeed', 'WindDir9am', 'WindDir3pm', 'WindSpeed9am', 'WindSpeed3pm', 'Humidity9am', 'Humidity3pm', 'Pressure9am', 'Pressure3pm', 'Cloud9am', 'Cloud3pm', 'Temp9am', 'Temp3pm', 'RainToday', 'RainTomorrow']\n"
     ]
    }
   ],
   "source": [
    "print(rain_df.columns)"
   ]
  },
  {
   "cell_type": "code",
   "execution_count": 6,
   "id": "0179b460",
   "metadata": {},
   "outputs": [
    {
     "data": {
      "text/plain": [
       "145460"
      ]
     },
     "execution_count": 6,
     "metadata": {},
     "output_type": "execute_result"
    }
   ],
   "source": [
    "rain_df.count()"
   ]
  },
  {
   "cell_type": "code",
   "execution_count": 7,
   "id": "01d80fc2",
   "metadata": {},
   "outputs": [
    {
     "name": "stdout",
     "output_type": "stream",
     "text": [
      "+----------+--------+-------+-------+--------+-----------+--------+-----------+-------------+----------+----------+------------+------------+-----------+-----------+-----------+-----------+--------+--------+-------+-------+---------+------------+\n",
      "|      Date|Location|MinTemp|MaxTemp|Rainfall|Evaporation|Sunshine|WindGustDir|WindGustSpeed|WindDir9am|WindDir3pm|WindSpeed9am|WindSpeed3pm|Humidity9am|Humidity3pm|Pressure9am|Pressure3pm|Cloud9am|Cloud3pm|Temp9am|Temp3pm|RainToday|RainTomorrow|\n",
      "+----------+--------+-------+-------+--------+-----------+--------+-----------+-------------+----------+----------+------------+------------+-----------+-----------+-----------+-----------+--------+--------+-------+-------+---------+------------+\n",
      "|2008-12-01|  Albury|   13.4|   22.9|     0.6|       null|    null|          W|           44|         W|       WNW|          20|          24|         71|         22|     1007.7|     1007.1|       8|    null|   16.9|   21.8|       No|          No|\n",
      "|2008-12-02|  Albury|    7.4|   25.1|       0|       null|    null|        WNW|           44|       NNW|       WSW|           4|          22|         44|         25|     1010.6|     1007.8|    null|    null|   17.2|   24.3|       No|          No|\n",
      "|2008-12-03|  Albury|   12.9|   25.7|       0|       null|    null|        WSW|           46|         W|       WSW|          19|          26|         38|         30|     1007.6|     1008.7|    null|       2|     21|   23.2|       No|          No|\n",
      "|2008-12-04|  Albury|    9.2|     28|       0|       null|    null|         NE|           24|        SE|         E|          11|           9|         45|         16|     1017.6|     1012.8|    null|    null|   18.1|   26.5|       No|          No|\n",
      "|2008-12-05|  Albury|   17.5|   32.3|       1|       null|    null|          W|           41|       ENE|        NW|           7|          20|         82|         33|     1010.8|       1006|       7|       8|   17.8|   29.7|       No|          No|\n",
      "+----------+--------+-------+-------+--------+-----------+--------+-----------+-------------+----------+----------+------------+------------+-----------+-----------+-----------+-----------+--------+--------+-------+-------+---------+------------+\n",
      "only showing top 5 rows\n",
      "\n"
     ]
    }
   ],
   "source": [
    "#replacing 'NA' values with null \n",
    "from pyspark.sql.functions import when, lit, col\n",
    "\n",
    "def replace(column, value):\n",
    "    return when(column != value, column).otherwise(lit(None))\n",
    "\n",
    "rain_df = rain_df.withColumn(\"Date\",replace(col(\"Date\"), \"NA\"))\n",
    "rain_df = rain_df.withColumn(\"Location\",replace(col(\"Location\"), \"NA\"))\n",
    "rain_df = rain_df.withColumn(\"MinTemp\",replace(col(\"MinTemp\"), \"NA\"))\n",
    "rain_df = rain_df.withColumn(\"MaxTemp\",replace(col(\"MaxTemp\"), \"NA\"))\n",
    "rain_df = rain_df.withColumn(\"Rainfall\",replace(col(\"Rainfall\"), \"NA\"))\n",
    "rain_df = rain_df.withColumn(\"Evaporation\",replace(col(\"Evaporation\"), \"NA\"))\n",
    "rain_df = rain_df.withColumn(\"Sunshine\",replace(col(\"Sunshine\"), \"NA\"))\n",
    "rain_df = rain_df.withColumn(\"WindGustDir\",replace(col(\"WindGustDir\"), \"NA\"))\n",
    "rain_df = rain_df.withColumn(\"WindGustSpeed\",replace(col(\"WindGustSpeed\"), \"NA\"))\n",
    "rain_df = rain_df.withColumn(\"WindDir9am\",replace(col(\"WindDir9am\"), \"NA\"))\n",
    "rain_df = rain_df.withColumn(\"WindDir3pm\",replace(col(\"WindDir3pm\"), \"NA\"))\n",
    "rain_df = rain_df.withColumn(\"WindSpeed9am\",replace(col(\"WindSpeed9am\"), \"NA\"))\n",
    "rain_df = rain_df.withColumn(\"WindSpeed3pm\",replace(col(\"WindSpeed3pm\"), \"NA\"))\n",
    "rain_df = rain_df.withColumn(\"Humidity9am\",replace(col(\"Humidity9am\"), \"NA\"))\n",
    "rain_df = rain_df.withColumn(\"Humidity3pm\",replace(col(\"Humidity3pm\"), \"NA\"))\n",
    "rain_df = rain_df.withColumn(\"Pressure9am\",replace(col(\"Pressure9am\"), \"NA\"))\n",
    "rain_df = rain_df.withColumn(\"Pressure3pm\",replace(col(\"Pressure3pm\"), \"NA\"))\n",
    "rain_df = rain_df.withColumn(\"Cloud9am\",replace(col(\"Cloud9am\"), \"NA\"))\n",
    "rain_df = rain_df.withColumn(\"Cloud3pm\",replace(col(\"Cloud3pm\"), \"NA\"))\n",
    "rain_df = rain_df.withColumn(\"Temp9am\",replace(col(\"Temp9am\"), \"NA\"))\n",
    "rain_df = rain_df.withColumn(\"Temp3pm\",replace(col(\"Temp3pm\"), \"NA\"))\n",
    "rain_df = rain_df.withColumn(\"RainToday\",replace(col(\"RainToday\"), \"NA\"))\n",
    "rain_df = rain_df.withColumn(\"RainTomorrow\",replace(col(\"RainTomorrow\"), \"NA\"))\n",
    "\n",
    "rain_df.show(5)  "
   ]
  },
  {
   "cell_type": "code",
   "execution_count": 8,
   "id": "4f942d31",
   "metadata": {},
   "outputs": [
    {
     "name": "stdout",
     "output_type": "stream",
     "text": [
      "+----+--------+-------+-------+--------+-----------+--------+-----------+-------------+----------+----------+------------+------------+-----------+-----------+-----------+-----------+--------+--------+-------+-------+---------+------------+\n",
      "|Date|Location|MinTemp|MaxTemp|Rainfall|Evaporation|Sunshine|WindGustDir|WindGustSpeed|WindDir9am|WindDir3pm|WindSpeed9am|WindSpeed3pm|Humidity9am|Humidity3pm|Pressure9am|Pressure3pm|Cloud9am|Cloud3pm|Temp9am|Temp3pm|RainToday|RainTomorrow|\n",
      "+----+--------+-------+-------+--------+-----------+--------+-----------+-------------+----------+----------+------------+------------+-----------+-----------+-----------+-----------+--------+--------+-------+-------+---------+------------+\n",
      "|   0|       0|   1485|   1261|    3261|      62790|   69835|      10326|        10263|     10566|      4228|        1767|        3062|       2654|       4507|      15065|      15028|   55888|   59358|   1767|   3609|     3261|        3267|\n",
      "+----+--------+-------+-------+--------+-----------+--------+-----------+-------------+----------+----------+------------+------------+-----------+-----------+-----------+-----------+--------+--------+-------+-------+---------+------------+\n",
      "\n"
     ]
    }
   ],
   "source": [
    "#counting the number of null values in each column\n",
    "from pyspark.sql.functions import isnull, when, count, col\n",
    "\n",
    "rain_df.select([count(when(isnull(c), c)).alias(c) for c in rain_df.columns]).show()"
   ]
  },
  {
   "cell_type": "code",
   "execution_count": 9,
   "id": "fedf7ca4",
   "metadata": {},
   "outputs": [],
   "source": [
    "#dropping columns with high null values\n",
    "rain_df=rain_df.drop('Evaporation', 'Sunshine','Cloud9am','Cloud3pm')"
   ]
  },
  {
   "cell_type": "code",
   "execution_count": 10,
   "id": "aa69f676",
   "metadata": {},
   "outputs": [
    {
     "data": {
      "text/plain": [
       "['Date',\n",
       " 'Location',\n",
       " 'MinTemp',\n",
       " 'MaxTemp',\n",
       " 'Rainfall',\n",
       " 'WindGustDir',\n",
       " 'WindGustSpeed',\n",
       " 'WindDir9am',\n",
       " 'WindDir3pm',\n",
       " 'WindSpeed9am',\n",
       " 'WindSpeed3pm',\n",
       " 'Humidity9am',\n",
       " 'Humidity3pm',\n",
       " 'Pressure9am',\n",
       " 'Pressure3pm',\n",
       " 'Temp9am',\n",
       " 'Temp3pm',\n",
       " 'RainToday',\n",
       " 'RainTomorrow']"
      ]
     },
     "execution_count": 10,
     "metadata": {},
     "output_type": "execute_result"
    }
   ],
   "source": [
    "rain_df.columns\n"
   ]
  },
  {
   "cell_type": "code",
   "execution_count": 11,
   "id": "3aba0234",
   "metadata": {},
   "outputs": [
    {
     "name": "stdout",
     "output_type": "stream",
     "text": [
      "+----+--------+-------+-------+--------+-----------+-------------+----------+----------+------------+------------+-----------+-----------+-----------+-----------+-------+-------+---------+------------+\n",
      "|Date|Location|MinTemp|MaxTemp|Rainfall|WindGustDir|WindGustSpeed|WindDir9am|WindDir3pm|WindSpeed9am|WindSpeed3pm|Humidity9am|Humidity3pm|Pressure9am|Pressure3pm|Temp9am|Temp3pm|RainToday|RainTomorrow|\n",
      "+----+--------+-------+-------+--------+-----------+-------------+----------+----------+------------+------------+-----------+-----------+-----------+-----------+-------+-------+---------+------------+\n",
      "|   0|       0|   1485|   1261|    3261|      10326|        10263|     10566|      4228|        1767|        3062|       2654|       4507|      15065|      15028|   1767|   3609|     3261|        3267|\n",
      "+----+--------+-------+-------+--------+-----------+-------------+----------+----------+------------+------------+-----------+-----------+-----------+-----------+-------+-------+---------+------------+\n",
      "\n",
      "145460\n"
     ]
    }
   ],
   "source": [
    "rain_df.select([count(when(isnull(c), c)).alias(c) for c in rain_df.columns]).show()\n",
    "print(rain_df.count())"
   ]
  },
  {
   "cell_type": "code",
   "execution_count": 12,
   "id": "1b631420",
   "metadata": {},
   "outputs": [
    {
     "name": "stdout",
     "output_type": "stream",
     "text": [
      "123710\n",
      "+----+--------+-------+-------+--------+-----------+-------------+----------+----------+------------+------------+-----------+-----------+-----------+-----------+-------+-------+---------+------------+\n",
      "|Date|Location|MinTemp|MaxTemp|Rainfall|WindGustDir|WindGustSpeed|WindDir9am|WindDir3pm|WindSpeed9am|WindSpeed3pm|Humidity9am|Humidity3pm|Pressure9am|Pressure3pm|Temp9am|Temp3pm|RainToday|RainTomorrow|\n",
      "+----+--------+-------+-------+--------+-----------+-------------+----------+----------+------------+------------+-----------+-----------+-----------+-----------+-------+-------+---------+------------+\n",
      "|   0|       0|     90|     45|       0|          0|            0|         0|         0|           0|           0|       1012|       1522|       9120|       9069|    343|    795|        0|           0|\n",
      "+----+--------+-------+-------+--------+-----------+-------------+----------+----------+------------+------------+-----------+-----------+-----------+-----------+-------+-------+---------+------------+\n",
      "\n"
     ]
    }
   ],
   "source": [
    "rain_df = rain_df.na.drop(subset=[\"RainTomorrow\",\"RainToday\",\"WindGustDir\",\"WindDir3pm\",\"WindDir9am\"])\n",
    "print(rain_df.count())\n",
    "rain_df.select([count(when(isnull(c), c)).alias(c) for c in rain_df.columns]).show()"
   ]
  },
  {
   "cell_type": "code",
   "execution_count": 13,
   "id": "8fa04934",
   "metadata": {},
   "outputs": [
    {
     "name": "stdout",
     "output_type": "stream",
     "text": [
      "+----------------+-----+\n",
      "|        Location|count|\n",
      "+----------------+-----+\n",
      "|          Cairns| 2900|\n",
      "|   NorfolkIsland| 2868|\n",
      "|         Bendigo| 2725|\n",
      "|         Walpole| 2506|\n",
      "|        Canberra| 2762|\n",
      "|         Woomera| 2917|\n",
      "|        Adelaide| 2746|\n",
      "|           Cobar| 2925|\n",
      "|   SydneyAirport| 2941|\n",
      "|    PerthAirport| 2924|\n",
      "|      Wollongong| 2817|\n",
      "|     Williamtown| 2203|\n",
      "|           Moree| 2635|\n",
      "|         Mildura| 2903|\n",
      "|        Portland| 2890|\n",
      "|      SalmonGums| 2865|\n",
      "|        Brisbane| 3029|\n",
      "|          Sydney| 2285|\n",
      "|           Perth| 3049|\n",
      "|            Sale| 2771|\n",
      "|   BadgerysCreek| 2458|\n",
      "|          Hobart| 3106|\n",
      "|     Tuggeranong| 2322|\n",
      "|        Ballarat| 2895|\n",
      "|       GoldCoast| 2832|\n",
      "|MelbourneAirport| 2943|\n",
      "|        Dartmoor| 2418|\n",
      "|            Nhil| 1518|\n",
      "|      PearceRAAF| 2469|\n",
      "|          Albury| 2445|\n",
      "|     Witchcliffe| 2653|\n",
      "|      WaggaWagga| 2801|\n",
      "|          Darwin| 3119|\n",
      "|           Uluru| 1446|\n",
      "|       Nuriootpa| 2812|\n",
      "|    CoffsHarbour| 2568|\n",
      "|       Melbourne| 2240|\n",
      "|         Penrith| 2366|\n",
      "|    MountGambier| 2898|\n",
      "|       NorahHead| 2790|\n",
      "|       Katherine| 1473|\n",
      "|     MountGinini| 2524|\n",
      "|      Townsville| 2884|\n",
      "|    AliceSprings| 2748|\n",
      "|        Watsonia| 2745|\n",
      "|        Richmond| 2073|\n",
      "|      Launceston| 2503|\n",
      "+----------------+-----+\n",
      "\n"
     ]
    }
   ],
   "source": [
    "rain_df.groupBy('Location').count().show(100)"
   ]
  },
  {
   "cell_type": "code",
   "execution_count": 15,
   "id": "40a8e928",
   "metadata": {},
   "outputs": [
    {
     "name": "stdout",
     "output_type": "stream",
     "text": [
      "+----+--------+------------------+------------------+------------------+-----------+-----------------+----------+----------+------------------+-----------------+-----------------+----------------+------------------+------------------+------------------+------------------+---------+------------+\n",
      "|Date|Location|           MinTemp|           MaxTemp|          Rainfall|WindGustDir|    WindGustSpeed|WindDir9am|WindDir3pm|      WindSpeed9am|     WindSpeed3pm|      Humidity9am|     Humidity3pm|       Pressure9am|       Pressure3pm|           Temp9am|           Temp3pm|RainToday|RainTomorrow|\n",
      "+----+--------+------------------+------------------+------------------+-----------+-----------------+----------+----------+------------------+-----------------+-----------------+----------------+------------------+------------------+------------------+------------------+---------+------------+\n",
      "|null|    null|12.414077010192518|23.474899931265913|2.3756608196588807|       null|40.68528009053431|      null|      null|15.011688626626789|19.17457764125778|67.65428124337805|50.8484057354241|1017.3981438170871|1015.0115962003125|17.269633694586073|21.897078468860602|     null|        null|\n",
      "+----+--------+------------------+------------------+------------------+-----------+-----------------+----------+----------+------------------+-----------------+-----------------+----------------+------------------+------------------+------------------+------------------+---------+------------+\n",
      "\n",
      "DataFrame[MinTemp: double]\n"
     ]
    }
   ],
   "source": [
    "res  = rain_df.select(*[Func.mean(c).alias(c) for c in rain_df.columns])\n",
    "res.show()\n",
    "lak = res.select('MinTemp')\n",
    "print(lak)"
   ]
  },
  {
   "cell_type": "code",
   "execution_count": 16,
   "id": "ec1282ca",
   "metadata": {
    "scrolled": true
   },
   "outputs": [
    {
     "name": "stdout",
     "output_type": "stream",
     "text": [
      "root\n",
      " |-- Date: string (nullable = true)\n",
      " |-- Location: string (nullable = true)\n",
      " |-- MinTemp: integer (nullable = true)\n",
      " |-- MaxTemp: integer (nullable = true)\n",
      " |-- Rainfall: integer (nullable = true)\n",
      " |-- WindGustDir: string (nullable = true)\n",
      " |-- WindGustSpeed: integer (nullable = true)\n",
      " |-- WindDir9am: string (nullable = true)\n",
      " |-- WindDir3pm: string (nullable = true)\n",
      " |-- WindSpeed9am: integer (nullable = true)\n",
      " |-- WindSpeed3pm: integer (nullable = true)\n",
      " |-- Humidity9am: integer (nullable = true)\n",
      " |-- Humidity3pm: integer (nullable = true)\n",
      " |-- Pressure9am: integer (nullable = true)\n",
      " |-- Pressure3pm: integer (nullable = true)\n",
      " |-- Temp9am: integer (nullable = true)\n",
      " |-- Temp3pm: integer (nullable = true)\n",
      " |-- RainToday: string (nullable = true)\n",
      " |-- RainTomorrow: string (nullable = true)\n",
      "\n"
     ]
    }
   ],
   "source": [
    "from pyspark.sql.types import IntegerType\n",
    "rain_df=rain_df.withColumn(\"MinTemp\",rain_df.MinTemp.cast(IntegerType()))\n",
    "rain_df=rain_df.withColumn(\"MaxTemp\",rain_df.MaxTemp.cast(IntegerType()))\n",
    "rain_df=rain_df.withColumn(\"Humidity9am\",rain_df.Humidity9am.cast(IntegerType()))\n",
    "rain_df=rain_df.withColumn(\"Humidity3pm\",rain_df.Humidity3pm.cast(IntegerType()))\n",
    "rain_df=rain_df.withColumn(\"Temp9am\",rain_df.Temp9am.cast(IntegerType()))\n",
    "rain_df=rain_df.withColumn(\"Pressure9am\",rain_df.Pressure9am.cast(IntegerType()))\n",
    "rain_df=rain_df.withColumn(\"Pressure3pm\",rain_df.Pressure3pm.cast(IntegerType()))\n",
    "rain_df=rain_df.withColumn(\"Temp3pm\",rain_df.Temp3pm.cast(IntegerType()))\n",
    "rain_df=rain_df.withColumn(\"Rainfall\",rain_df.Rainfall.cast(IntegerType()))\n",
    "rain_df=rain_df.withColumn(\"WindGustSpeed\",rain_df.WindGustSpeed.cast(IntegerType()))\n",
    "rain_df=rain_df.withColumn(\"WindSpeed9am\",rain_df.WindSpeed9am.cast(IntegerType()))\n",
    "rain_df=rain_df.withColumn(\"WindSpeed3pm\",rain_df.WindSpeed3pm.cast(IntegerType()))\n",
    "\n",
    "\n",
    "\n",
    "rain_df.printSchema()"
   ]
  },
  {
   "cell_type": "code",
   "execution_count": 17,
   "id": "127f6392",
   "metadata": {},
   "outputs": [
    {
     "name": "stdout",
     "output_type": "stream",
     "text": [
      "+----------+-------------+-------+-------+--------+-----------+-------------+----------+----------+------------+------------+-----------+-----------+-----------+-----------+-------+-------+---------+------------+\n",
      "|      Date|     Location|MinTemp|MaxTemp|Rainfall|WindGustDir|WindGustSpeed|WindDir9am|WindDir3pm|WindSpeed9am|WindSpeed3pm|Humidity9am|Humidity3pm|Pressure9am|Pressure3pm|Temp9am|Temp3pm|RainToday|RainTomorrow|\n",
      "+----------+-------------+-------+-------+--------+-----------+-------------+----------+----------+------------+------------+-----------+-----------+-----------+-----------+-------+-------+---------+------------+\n",
      "|2009-09-30|       Albury|      4|     21|       0|        NNW|           35|         E|       NNE|           7|          17|         75|         36|       1018|       1013|     11|     20|       No|          No|\n",
      "|2013-01-10|       Albury|     11|     32|       0|        NNE|           31|        SE|       SSE|           9|          11|         48|         24|       1007|       1006|     20|     29|       No|          No|\n",
      "|2013-11-06|       Albury|      6|     29|       0|        NNW|           31|       SSE|        NW|           7|          13|         58|         13|       1021|       1016|     16|     28|       No|          No|\n",
      "|2014-02-14|       Albury|     21|     30|       0|        WSW|           28|        SE|       WSW|           9|          13|         62|         33|       1006|       1003|     24|     30|       No|         Yes|\n",
      "|2014-10-23|       Albury|     14|     32|       0|         NE|           31|         S|       ESE|           2|          15|         70|         31|       1017|       1013|     20|     31|       No|          No|\n",
      "|2015-02-26|       Albury|     18|     29|       0|        WNW|           24|       SSE|       ESE|           9|          11|         71|         50|       1009|       1007|     20|     27|       No|          No|\n",
      "|2015-10-06|       Albury|     10|     34|       0|        NNW|           48|       SSE|       NNW|           7|          31|         73|         14|       1020|       1016|     17|     33|       No|          No|\n",
      "|2016-01-09|       Albury|     16|     35|       0|        WNW|           28|         E|       SSE|          11|           9|         52|         24|       1018|       1015|     24|     33|       No|          No|\n",
      "|2016-02-01|       Albury|     13|     26|      28|        SSE|           28|       SSE|        SW|          17|          13|         88|         47|       1004|       1003|     14|     24|      Yes|          No|\n",
      "|2009-06-19|BadgerysCreek|      8|     18|       2|        ESE|           31|        SW|       ESE|          15|          20|         89|         54|       1030|       1028|     12|     15|      Yes|         Yes|\n",
      "|2010-04-18|BadgerysCreek|     12|     26|       0|        ENE|           24|       WSW|        NE|           7|           9|         83|         52|       1027|       1024|     19|     24|       No|          No|\n",
      "|2010-06-13|BadgerysCreek|      3|     17|       0|         SW|           28|       WSW|       WSW|          20|           4|         68|         39|       1030|       1029|      9|     17|       No|          No|\n",
      "|2011-11-28|BadgerysCreek|     13|     31|       0|        ENE|           31|       NNE|       NNE|          11|          19|         66|         34|       1017|       1014|     21|     30|       No|          No|\n",
      "|2012-01-10|BadgerysCreek|     14|     29|       0|         SW|           30|         W|       WSW|          11|          13|         44|         32|       1010|       1006|     22|     28|       No|          No|\n",
      "|2012-08-09|BadgerysCreek|      4|     18|       0|        WSW|           57|         N|       WSW|           4|          30|         76|         28|       1014|       1010|     11|     17|       No|          No|\n",
      "|2012-10-01|BadgerysCreek|      4|     21|       0|        ESE|           41|       SSW|       SSE|           6|           4|         57|         32|       1028|       1024|     15|     21|       No|          No|\n",
      "|2013-07-21|BadgerysCreek|      4|     15|       0|          W|           57|        NW|         W|          13|          26|         51|         35|       1015|       1013|     10|     14|       No|          No|\n",
      "|2013-08-12|BadgerysCreek|      3|     24|       0|        WNW|           89|       ENE|        NW|           4|          30|         80|         52|       1006|       1003|     11|     17|       No|          No|\n",
      "|2013-09-29|BadgerysCreek|     11|     25|       0|        WSW|           44|        SW|        NE|          15|           7|         35|         23|       1017|       1013|     19|     24|       No|          No|\n",
      "|2014-09-05|BadgerysCreek|      8|     17|       0|        SSW|           41|       SSW|         S|          22|          15|         63|         68|       1022|       1022|     13|     15|       No|         Yes|\n",
      "+----------+-------------+-------+-------+--------+-----------+-------------+----------+----------+------------+------------+-----------+-----------+-----------+-----------+-------+-------+---------+------------+\n",
      "only showing top 20 rows\n",
      "\n"
     ]
    }
   ],
   "source": [
    "rain_df.show()"
   ]
  },
  {
   "cell_type": "code",
   "execution_count": 18,
   "id": "81645b60",
   "metadata": {},
   "outputs": [
    {
     "name": "stdout",
     "output_type": "stream",
     "text": [
      "+----+--------+-------+-------+--------+-----------+-------------+----------+----------+------------+------------+-----------+-----------+-----------+-----------+-------+-------+---------+------------+---------------+---------------+---------------+-------------------+---------------+-------------------+-------------------+-------------------+\n",
      "|Date|Location|MinTemp|MaxTemp|Rainfall|WindGustDir|WindGustSpeed|WindDir9am|WindDir3pm|WindSpeed9am|WindSpeed3pm|Humidity9am|Humidity3pm|Pressure9am|Pressure3pm|Temp9am|Temp3pm|RainToday|RainTomorrow|MinTemp_imputed|MaxTemp_imputed|Temp9am_imputed|Pressure9am_imputed|Temp3pm_imputed|Humidity3pm_imputed|Humidity9am_imputed|Pressure3pm_imputed|\n",
      "+----+--------+-------+-------+--------+-----------+-------------+----------+----------+------------+------------+-----------+-----------+-----------+-----------+-------+-------+---------+------------+---------------+---------------+---------------+-------------------+---------------+-------------------+-------------------+-------------------+\n",
      "|   0|       0|     90|     45|       0|          0|            0|         0|         0|           0|           0|       1012|       1522|       9120|       9069|    343|    795|        0|           0|              0|              0|              0|                  0|              0|                  0|                  0|                  0|\n",
      "+----+--------+-------+-------+--------+-----------+-------------+----------+----------+------------+------------+-----------+-----------+-----------+-----------+-------+-------+---------+------------+---------------+---------------+---------------+-------------------+---------------+-------------------+-------------------+-------------------+\n",
      "\n"
     ]
    }
   ],
   "source": [
    "from pyspark.ml.feature import Imputer\n",
    "imputer = Imputer(\n",
    "    inputCols=['MinTemp','MaxTemp','Humidity9am','Humidity3pm','Pressure9am','Pressure3pm','Temp9am','Temp3pm'], \n",
    "    outputCols=[\"{}_imputed\".format(c) for c in ['MinTemp','MaxTemp','Humidity9am','Humidity3pm','Pressure9am',\n",
    "                                                 'Pressure3pm','Temp9am','Temp3pm']]\n",
    "    ).setStrategy(\"mean\")\n",
    "rain_df = imputer.fit(rain_df).transform(rain_df)\n",
    "rain_df.select([count(when(isnull(c), c)).alias(c) for c in rain_df.columns]).show()"
   ]
  },
  {
   "cell_type": "code",
   "execution_count": 19,
   "id": "aa4fb33c",
   "metadata": {},
   "outputs": [
    {
     "name": "stdout",
     "output_type": "stream",
     "text": [
      "+----------+-------------+-------+-------+--------+-----------+-------------+----------+----------+------------+------------+-----------+-----------+-----------+-----------+-------+-------+---------+------------+---------------+---------------+---------------+-------------------+---------------+-------------------+-------------------+-------------------+\n",
      "|      Date|     Location|MinTemp|MaxTemp|Rainfall|WindGustDir|WindGustSpeed|WindDir9am|WindDir3pm|WindSpeed9am|WindSpeed3pm|Humidity9am|Humidity3pm|Pressure9am|Pressure3pm|Temp9am|Temp3pm|RainToday|RainTomorrow|MinTemp_imputed|MaxTemp_imputed|Temp9am_imputed|Pressure9am_imputed|Temp3pm_imputed|Humidity3pm_imputed|Humidity9am_imputed|Pressure3pm_imputed|\n",
      "+----------+-------------+-------+-------+--------+-----------+-------------+----------+----------+------------+------------+-----------+-----------+-----------+-----------+-------+-------+---------+------------+---------------+---------------+---------------+-------------------+---------------+-------------------+-------------------+-------------------+\n",
      "|2009-09-30|       Albury|      4|     21|       0|        NNW|           35|         E|       NNE|           7|          17|         75|         36|       1018|       1013|     11|     20|       No|          No|              4|             21|             11|               1018|             20|                 36|                 75|               1013|\n",
      "|2013-01-10|       Albury|     11|     32|       0|        NNE|           31|        SE|       SSE|           9|          11|         48|         24|       1007|       1006|     20|     29|       No|          No|             11|             32|             20|               1007|             29|                 24|                 48|               1006|\n",
      "|2013-11-06|       Albury|      6|     29|       0|        NNW|           31|       SSE|        NW|           7|          13|         58|         13|       1021|       1016|     16|     28|       No|          No|              6|             29|             16|               1021|             28|                 13|                 58|               1016|\n",
      "|2014-02-14|       Albury|     21|     30|       0|        WSW|           28|        SE|       WSW|           9|          13|         62|         33|       1006|       1003|     24|     30|       No|         Yes|             21|             30|             24|               1006|             30|                 33|                 62|               1003|\n",
      "|2014-10-23|       Albury|     14|     32|       0|         NE|           31|         S|       ESE|           2|          15|         70|         31|       1017|       1013|     20|     31|       No|          No|             14|             32|             20|               1017|             31|                 31|                 70|               1013|\n",
      "|2015-02-26|       Albury|     18|     29|       0|        WNW|           24|       SSE|       ESE|           9|          11|         71|         50|       1009|       1007|     20|     27|       No|          No|             18|             29|             20|               1009|             27|                 50|                 71|               1007|\n",
      "|2015-10-06|       Albury|     10|     34|       0|        NNW|           48|       SSE|       NNW|           7|          31|         73|         14|       1020|       1016|     17|     33|       No|          No|             10|             34|             17|               1020|             33|                 14|                 73|               1016|\n",
      "|2016-01-09|       Albury|     16|     35|       0|        WNW|           28|         E|       SSE|          11|           9|         52|         24|       1018|       1015|     24|     33|       No|          No|             16|             35|             24|               1018|             33|                 24|                 52|               1015|\n",
      "|2016-02-01|       Albury|     13|     26|      28|        SSE|           28|       SSE|        SW|          17|          13|         88|         47|       1004|       1003|     14|     24|      Yes|          No|             13|             26|             14|               1004|             24|                 47|                 88|               1003|\n",
      "|2009-06-19|BadgerysCreek|      8|     18|       2|        ESE|           31|        SW|       ESE|          15|          20|         89|         54|       1030|       1028|     12|     15|      Yes|         Yes|              8|             18|             12|               1030|             15|                 54|                 89|               1028|\n",
      "|2010-04-18|BadgerysCreek|     12|     26|       0|        ENE|           24|       WSW|        NE|           7|           9|         83|         52|       1027|       1024|     19|     24|       No|          No|             12|             26|             19|               1027|             24|                 52|                 83|               1024|\n",
      "|2010-06-13|BadgerysCreek|      3|     17|       0|         SW|           28|       WSW|       WSW|          20|           4|         68|         39|       1030|       1029|      9|     17|       No|          No|              3|             17|              9|               1030|             17|                 39|                 68|               1029|\n",
      "|2011-11-28|BadgerysCreek|     13|     31|       0|        ENE|           31|       NNE|       NNE|          11|          19|         66|         34|       1017|       1014|     21|     30|       No|          No|             13|             31|             21|               1017|             30|                 34|                 66|               1014|\n",
      "|2012-01-10|BadgerysCreek|     14|     29|       0|         SW|           30|         W|       WSW|          11|          13|         44|         32|       1010|       1006|     22|     28|       No|          No|             14|             29|             22|               1010|             28|                 32|                 44|               1006|\n",
      "|2012-08-09|BadgerysCreek|      4|     18|       0|        WSW|           57|         N|       WSW|           4|          30|         76|         28|       1014|       1010|     11|     17|       No|          No|              4|             18|             11|               1014|             17|                 28|                 76|               1010|\n",
      "|2012-10-01|BadgerysCreek|      4|     21|       0|        ESE|           41|       SSW|       SSE|           6|           4|         57|         32|       1028|       1024|     15|     21|       No|          No|              4|             21|             15|               1028|             21|                 32|                 57|               1024|\n",
      "|2013-07-21|BadgerysCreek|      4|     15|       0|          W|           57|        NW|         W|          13|          26|         51|         35|       1015|       1013|     10|     14|       No|          No|              4|             15|             10|               1015|             14|                 35|                 51|               1013|\n",
      "|2013-08-12|BadgerysCreek|      3|     24|       0|        WNW|           89|       ENE|        NW|           4|          30|         80|         52|       1006|       1003|     11|     17|       No|          No|              3|             24|             11|               1006|             17|                 52|                 80|               1003|\n",
      "|2013-09-29|BadgerysCreek|     11|     25|       0|        WSW|           44|        SW|        NE|          15|           7|         35|         23|       1017|       1013|     19|     24|       No|          No|             11|             25|             19|               1017|             24|                 23|                 35|               1013|\n",
      "|2014-09-05|BadgerysCreek|      8|     17|       0|        SSW|           41|       SSW|         S|          22|          15|         63|         68|       1022|       1022|     13|     15|       No|         Yes|              8|             17|             13|               1022|             15|                 68|                 63|               1022|\n",
      "|2014-11-11|BadgerysCreek|     15|     22|       0|        ESE|           28|        SE|       ESE|           4|          19|         65|         74|       1020|       1019|     19|     18|       No|          No|             15|             22|             19|               1020|             18|                 74|                 65|               1019|\n",
      "|2015-02-06|BadgerysCreek|     15|     25|       0|        SSE|           24|       SSW|        SE|           6|          13|         80|         59|       1027|       1026|     18|     23|       No|          No|             15|             25|             18|               1027|             23|                 59|                 80|               1026|\n",
      "|2015-05-05|BadgerysCreek|     12|     25|       0|        WNW|           43|         N|        NW|           7|          24|        100|         37|       1008|       1003|     15|     25|       No|          No|             12|             25|             15|               1008|             25|                 37|                100|               1003|\n",
      "|2016-06-25|BadgerysCreek|      3|     14|       0|        WSW|           44|       WSW|       WSW|          19|          20|         51|         36|       1018|       1018|      8|     13|       No|          No|              3|             14|              8|               1018|             13|                 36|                 51|               1018|\n",
      "|2009-07-27|        Cobar|      4|     11|       1|        SSW|           30|       WSW|        SW|           7|          13|         99|         74|       1022|       1022|      6|     11|      Yes|          No|              4|             11|              6|               1022|             11|                 74|                 99|               1022|\n",
      "|2010-02-13|        Cobar|     20|     23|      22|         NE|           24|       WNW|       SSW|           9|           9|         97|         92|       1010|       1007|     21|     22|      Yes|         Yes|             20|             23|             21|               1010|             22|                 92|                 97|               1007|\n",
      "|2011-09-17|        Cobar|     12|     31|       0|        NNW|           48|        NW|        NW|           9|          28|          7|          3|       1017|       1014|     25|     30|       No|          No|             12|             31|             25|               1017|             30|                  3|                  7|               1014|\n",
      "|2011-11-17|        Cobar|     16|     26|       3|        NNE|           35|         E|        NW|           7|           6|         86|         59|       1017|       1015|     18|     24|      Yes|          No|             16|             26|             18|               1017|             24|                 59|                 86|               1015|\n",
      "|2013-04-09|        Cobar|     14|     28|       0|          E|           31|       ENE|       ESE|          19|          17|         37|         19|       1024|       1020|     21|     27|       No|          No|             14|             28|             21|               1024|             27|                 19|                 37|               1020|\n",
      "|2014-09-10|        Cobar|     10|     20|       1|        WSW|           50|       WSW|        SW|          22|          15|         59|         33|       1016|       1015|     14|     19|      Yes|          No|             10|             20|             14|               1016|             19|                 33|                 59|               1015|\n",
      "|2015-05-07|        Cobar|      6|     18|       0|        WSW|           39|       SSW|       WSW|          11|          20|         57|         27|       1023|       1021|     11|     17|       No|          No|              6|             18|             11|               1023|             17|                 27|                 57|               1021|\n",
      "|2015-08-30|        Cobar|      2|     15|       0|          S|           30|       SSW|       SSW|          15|          13|         60|         45|       1023|       1020|      9|     14|       No|          No|              2|             15|              9|               1023|             14|                 45|                 60|               1020|\n",
      "|2015-10-02|        Cobar|      9|     29|       0|        ESE|           39|       ESE|        SE|          22|          11|         25|          7|       1032|       1028|     21|     29|       No|          No|              9|             29|             21|               1032|             29|                  7|                 25|               1028|\n",
      "|2015-11-06|        Cobar|     17|     26|       0|        WSW|           33|        SW|        SW|          19|          17|         60|         41|       1010|       1009|     21|     26|       No|          No|             17|             26|             21|               1010|             26|                 41|                 60|               1009|\n",
      "|2016-02-07|        Cobar|     21|     34|       0|        SSE|           35|       ENE|       SSE|          17|          15|         53|         24|       1014|       1012|     24|     33|       No|          No|             21|             34|             24|               1014|             33|                 24|                 53|               1012|\n",
      "|2017-02-12|        Cobar|     27|     38|       0|        SSW|           59|       SSW|        SW|          19|          30|         32|         24|       1002|       1003|     31|     35|       No|          No|             27|             38|             31|               1002|             35|                 24|                 32|               1003|\n",
      "|2009-03-27| CoffsHarbour|     16|     26|       0|          S|           52|        SW|       SSE|          13|          24|         72|         92|       1020|       1019|     22|     20|       No|         Yes|             16|             26|             22|               1020|             20|                 92|                 72|               1019|\n",
      "|2009-04-30| CoffsHarbour|     10|     21|       0|         SW|           37|       SSW|         S|          19|          22|         52|         43|       1017|       1016|     18|     20|       No|          No|             10|             21|             18|               1017|             20|                 43|                 52|               1016|\n",
      "|2009-06-18| CoffsHarbour|     12|     16|      12|        SSE|           39|        SW|        SE|          24|          13|         72|         85|       1025|       1023|     15|     15|      Yes|         Yes|             12|             16|             15|               1025|             15|                 85|                 72|               1023|\n",
      "|2009-09-05| CoffsHarbour|     14|     21|       1|          S|           44|         S|       SSE|          31|          20|         67|         53|       1013|       1013|     19|     19|      Yes|          No|             14|             21|             19|               1013|             19|                 53|                 67|               1013|\n",
      "|2009-09-06| CoffsHarbour|      9|     21|       0|         SE|           20|        SE|         E|           6|          17|         41|         61|       1018|       1015|     19|     20|       No|          No|              9|             21|             19|               1018|             20|                 61|                 41|               1015|\n",
      "|2011-10-25| CoffsHarbour|     16|     29|       0|         NE|           50|       NNW|        NE|          19|          33|         50|         71|       1011|       1009|     24|     22|       No|         Yes|             16|             29|             24|               1011|             22|                 71|                 50|               1009|\n",
      "|2011-11-06| CoffsHarbour|     15|     27|       0|        NNE|           56|       NNW|       NNE|          11|          39|         61|         57|       1015|       1012|     23|     24|       No|          No|             15|             27|             23|               1015|             24|                 57|                 61|               1012|\n",
      "|2012-03-03| CoffsHarbour|     19|     22|      20|         SE|           39|        SW|         W|          13|           9|         96|         92|       1019|       1017|     19|     21|      Yes|         Yes|             19|             22|             19|               1019|             21|                 92|                 96|               1017|\n",
      "|2012-06-07| CoffsHarbour|     12|     18|       0|         SW|           48|        SW|         S|          31|          28|         56|         50|       1020|       1019|     15|     17|       No|          No|             12|             18|             15|               1020|             17|                 50|                 56|               1019|\n",
      "|2013-12-18| CoffsHarbour|     15|     25|       0|        ESE|           26|       SSE|       ESE|          13|          17|         62|         56|       1023|       1022|     23|     25|       No|          No|             15|             25|             23|               1023|             25|                 56|                 62|               1022|\n",
      "|2015-04-09| CoffsHarbour|     10|     24|       0|          S|           43|        SW|       SSE|          26|          22|         52|         53|       1019|       1017|     20|     23|       No|          No|             10|             24|             20|               1019|             23|                 53|                 52|               1017|\n",
      "|2015-08-14| CoffsHarbour|      4|     17|       0|        WSW|           28|       WSW|       ESE|           9|          11|         49|         44|       1025|       1023|     14|     17|       No|          No|              4|             17|             14|               1025|             17|                 44|                 49|               1023|\n",
      "|2015-09-06| CoffsHarbour|      9|     19|       2|         SW|           31|        SW|        SE|          19|          15|         77|         77|       1024|       1021|     17|     17|      Yes|         Yes|              9|             19|             17|               1024|             17|                 77|                 77|               1021|\n",
      "|2016-02-28| CoffsHarbour|     22|     28|       0|        SSW|           39|        SW|       SSE|          24|          28|         76|         65|       1016|       1015|     25|     27|       No|          No|             22|             28|             25|               1016|             27|                 65|                 76|               1015|\n",
      "|2016-07-01| CoffsHarbour|      3|     19|       0|         SW|           28|       WNW|       NNE|           7|          17|         54|         44|       1018|       1015|     15|     19|       No|          No|              3|             19|             15|               1018|             19|                 44|                 54|               1015|\n",
      "|2016-09-20| CoffsHarbour|      6|     21|       0|        WSW|           26|        SE|       ENE|           6|          15|         53|         63|       1018|       1016|     18|     19|       No|         Yes|              6|             21|             18|               1018|             19|                 63|                 53|               1016|\n",
      "|2016-09-21| CoffsHarbour|     14|     22|       5|          N|           41|         N|         N|           9|          19|         77|         73|       1015|       1010|     17|     19|      Yes|         Yes|             14|             22|             17|               1015|             19|                 73|                 77|               1010|\n",
      "|2016-10-13| CoffsHarbour|     12|     21|       0|          S|           61|        SW|         S|          30|          33|         52|         77|       1017|       1018|     18|     16|       No|         Yes|             12|             21|             18|               1017|             16|                 77|                 52|               1018|\n",
      "|2017-01-08| CoffsHarbour|     19|     27|       0|        ENE|           41|        NE|        NE|          15|          28|         59|         57|       1015|       1013|     24|     26|       No|          No|             19|             27|             24|               1015|             26|                 57|                 59|               1013|\n",
      "|2017-06-19| CoffsHarbour|     15|     18|       0|         SW|           56|        SW|       SSW|          30|          22|         73|         94|       1024|       1023|     17|     15|       No|         Yes|             15|             18|             17|               1024|             15|                 94|                 73|               1023|\n",
      "|2009-05-05|        Moree|      9|     24|       0|          E|           30|         E|        SE|          17|           9|         53|         27|       1028|       1024|     17|     23|       No|          No|              9|             24|             17|               1028|             23|                 27|                 53|               1024|\n",
      "|2009-07-05|        Moree|      3|     15|       0|         SW|           37|         S|       SSW|           9|          20|         82|         51|       1020|       1018|      8|     14|       No|          No|              3|             15|              8|               1020|             14|                 51|                 82|               1018|\n",
      "|2009-11-18|        Moree|     22|     41|       0|         SW|           46|         N|       SSW|          22|          24|         42|          7|       1008|       1004|     28|     40|       No|          No|             22|             41|             28|               1008|             40|                  7|                 42|               1004|\n",
      "|2010-04-15|        Moree|     11|     28|       0|        NNE|           28|       NNE|        SE|          19|          11|         56|         29|       1021|       1017|     21|     26|       No|          No|             11|             28|             21|               1021|             26|                 29|                 56|               1017|\n",
      "|2011-09-16|        Moree|      6|     27|       0|        WSW|           31|       NNE|         W|          11|          11|         38|         15|       1022|       1017|     18|     27|       No|          No|              6|             27|             18|               1022|             27|                 15|                 38|               1017|\n",
      "|2012-06-21|        Moree|      2|     20|       0|          N|           30|        NE|         N|          17|          17|         70|         26|       1020|       1015|      9|     19|       No|          No|              2|             20|              9|               1020|             19|                 26|                 70|               1015|\n",
      "|2012-07-30|        Moree|      1|     16|       0|         SW|           39|       SSW|       SSW|          13|          26|         82|         33|       1024|       1020|      7|     16|       No|          No|              1|             16|              7|               1024|             16|                 33|                 82|               1020|\n",
      "|2012-09-20|        Moree|      7|     29|       0|          N|           33|        NE|         N|          17|           9|         32|         16|       1018|       1013|     21|     28|       No|         Yes|              7|             29|             21|               1018|             28|                 16|                 32|               1013|\n",
      "|2013-07-22|        Moree|      5|     17|       0|        WNW|           31|        NE|       WNW|          15|          15|         74|         41|       1023|       1020|     10|     16|       No|          No|              5|             17|             10|               1023|             16|                 41|                 74|               1020|\n",
      "|2013-09-07|        Moree|      8|     29|       0|         NE|           28|       NNE|         W|          19|           2|         39|         17|       1027|       1022|     19|     28|       No|          No|              8|             29|             19|               1027|             28|                 17|                 39|               1022|\n",
      "|2016-06-15|        Moree|      7|     21|       0|          E|           30|         E|         E|          19|           9|         66|         37|       1031|       1027|     14|     21|       No|          No|              7|             21|             14|               1031|             21|                 37|                 66|               1027|\n",
      "|2017-02-06|        Moree|     24|     39|       0|         NE|           43|        NE|         N|          31|          17|         54|         19|       1013|       1009|     27|     38|       No|          No|             24|             39|             27|               1013|             38|                 19|                 54|               1009|\n",
      "|2010-12-21|    NorahHead|     13|     27|       0|         NE|           33|        NW|         W|          17|          11|         44|         32|       1009|       1008|     21|     27|       No|          No|             13|             27|             21|               1009|             27|                 32|                 44|               1008|\n",
      "|2011-01-27|    NorahHead|     21|     27|       0|        SSW|           54|        SW|         E|           9|          15|         90|         76|       1014|       1011|     22|     26|       No|          No|             21|             27|             22|               1014|             26|                 76|                 90|               1011|\n",
      "|2011-02-13|    NorahHead|     19|     23|       9|          S|           61|       SSW|       SSW|          22|          35|         89|         87|       1017|       1017|     20|     22|      Yes|         Yes|             19|             23|             20|               1017|             22|                 87|                 89|               1017|\n",
      "|2011-10-09|    NorahHead|     13|     23|       0|        WSW|           31|       WNW|         W|           7|          11|         81|         39|       1008|       1004|     17|     22|       No|          No|             13|             23|             17|               1008|             22|                 39|                 81|               1004|\n",
      "|2013-12-13|    NorahHead|     18|     27|       0|         NE|           46|       NNE|        NE|          15|          30|         76|         71|       1012|       1010|     22|     25|       No|          No|             18|             27|             22|               1012|             25|                 71|                 76|               1010|\n",
      "|2014-09-21|    NorahHead|     11|     18|       3|          S|           31|       WNW|        SE|           2|          13|         87|         69|       1030|       1027|     14|     18|      Yes|         Yes|             11|             18|             14|               1030|             18|                 69|                 87|               1027|\n",
      "|2014-12-01|    NorahHead|     19|     27|       1|        NNE|           48|       NNE|        NE|          13|          30|         80|         81|       1011|       1008|     22|     22|      Yes|         Yes|             19|             27|             22|               1011|             22|                 81|                 80|               1008|\n",
      "|2014-12-12|    NorahHead|     17|     21|       1|          S|           78|       SSE|         S|          57|          48|         74|         69|       1015|       1017|     19|     20|      Yes|          No|             17|             21|             19|               1015|             20|                 69|                 74|               1017|\n",
      "|2016-06-01|    NorahHead|     12|     18|      12|         SE|           22|         W|       SSW|          11|           7|         97|         73|       1028|       1025|     13|     17|      Yes|          No|             12|             18|             13|               1028|             17|                 73|                 97|               1025|\n",
      "|2017-01-14|    NorahHead|     23|     30|       0|          S|           33|       WNW|         S|           7|           6|         58|         77|       1002|       1003|     29|     26|       No|          No|             23|             30|             29|               1002|             26|                 77|                 58|               1003|\n",
      "|2017-06-02|    NorahHead|      9|     17|       0|          S|           50|       WSW|        SW|          13|          26|         62|         64|       1032|       1030|     12|     16|       No|         Yes|              9|             17|             12|               1032|             16|                 64|                 62|               1030|\n",
      "|2009-03-14|NorfolkIsland|     19|     23|       0|          E|           39|       ESE|         E|          20|          24|         75|         70|       1018|       1016|     20|     21|       No|          No|             19|             23|             20|               1018|             21|                 70|                 75|               1016|\n",
      "|2009-04-12|NorfolkIsland|     18|     23|       0|          E|           46|       ESE|         E|          24|          30|         52|         62|       1027|       1024|     20|     21|       No|          No|             18|             23|             20|               1027|             21|                 62|                 52|               1024|\n",
      "|2009-09-12|NorfolkIsland|     14|     18|      38|        SSW|           74|        SW|        SW|          35|          35|         74|         67|       1015|       1014|     17|     17|      Yes|          No|             14|             18|             17|               1015|             17|                 67|                 74|               1014|\n",
      "|2010-05-19|NorfolkIsland|     16|     21|       9|         NW|           57|        NE|       ENE|          13|          26|         71|         80|       1015|       1011|     19|     20|      Yes|          No|             16|             21|             19|               1015|             20|                 80|                 71|               1011|\n",
      "|2011-08-28|NorfolkIsland|     14|     19|       1|        ENE|           37|       ESE|         E|          17|          24|         81|         91|       1023|       1020|     16|     17|       No|         Yes|             14|             19|             16|               1023|             17|                 91|                 81|               1020|\n",
      "|2012-02-25|NorfolkIsland|     19|     24|       0|         SE|           48|        SE|        SE|          26|          26|         59|         61|       1021|       1020|     22|     23|       No|          No|             19|             24|             22|               1021|             23|                 61|                 59|               1020|\n",
      "|2012-04-24|NorfolkIsland|     18|     22|       1|          E|           46|         E|         E|          28|          22|         64|         69|       1021|       1019|     21|     22|      Yes|          No|             18|             22|             21|               1021|             22|                 69|                 64|               1019|\n",
      "|2012-09-11|NorfolkIsland|     14|     18|       0|         SE|           31|       SSE|       SSE|          17|          15|         54|         57|       1025|       1023|     16|     16|       No|          No|             14|             18|             16|               1025|             16|                 57|                 54|               1023|\n",
      "|2014-03-01|NorfolkIsland|     19|     23|       0|         SE|           43|        SE|        SE|          22|          28|         64|         59|       1014|       1013|     22|     22|       No|          No|             19|             23|             22|               1014|             22|                 59|                 64|               1013|\n",
      "|2014-03-29|NorfolkIsland|     19|     24|       0|        ENE|           50|       ENE|         E|          30|          31|         67|         60|       1024|       1022|     22|     23|       No|          No|             19|             24|             22|               1024|             23|                 60|                 67|               1022|\n",
      "|2014-11-22|NorfolkIsland|     17|     22|       0|        ENE|           31|        NE|       ESE|          11|          19|         53|         55|       1022|       1021|     20|     21|       No|          No|             17|             22|             20|               1022|             21|                 55|                 53|               1021|\n",
      "|2015-03-14|NorfolkIsland|     21|     25|       0|          E|           56|       ESE|         E|          22|          31|         84|         85|       1007|       1002|     24|     23|       No|         Yes|             21|             25|             24|               1007|             23|                 85|                 84|               1002|\n",
      "|2015-10-28|NorfolkIsland|     14|     21|       0|        WSW|           46|       NNE|         N|          19|          20|         56|         67|       1020|       1016|     19|     19|       No|         Yes|             14|             21|             19|               1020|             19|                 67|                 56|               1016|\n",
      "|2016-03-11|NorfolkIsland|     22|     25|       0|          E|           41|         E|         E|          24|          24|         84|         84|       1021|       1019|     23|     23|       No|          No|             22|             25|             23|               1021|             23|                 84|                 84|               1019|\n",
      "|2016-04-12|NorfolkIsland|     17|     25|       0|        ENE|           28|        NE|         S|          11|           9|         82|         93|       1019|       1018|     22|     21|       No|         Yes|             17|             25|             22|               1019|             21|                 93|                 82|               1018|\n",
      "|2016-08-01|NorfolkIsland|     14|     19|       0|         SW|           41|       WSW|       WSW|          24|          26|         63|         70|       1016|       1014|     18|     18|       No|          No|             14|             19|             18|               1016|             18|                 70|                 63|               1014|\n",
      "|2016-12-22|NorfolkIsland|     18|     24|       0|          S|           33|       SSW|       SSW|          13|          17|         77|         66|       1013|       1011|     22|     23|       No|          No|             18|             24|             22|               1013|             23|                 66|                 77|               1011|\n",
      "|2009-01-06|      Penrith|     16|     41|       0|         NW|           46|       NNW|        NE|           6|          11|         71|          9|       null|       null|     24|     40|       No|          No|             16|             41|             24|               1016|             40|                  9|                 71|               1014|\n",
      "|2010-03-09|      Penrith|     16|     30|       0|        WNW|           41|       NNW|         W|          17|          24|         50|         38|       null|       null|     22|     29|       No|          No|             16|             30|             22|               1016|             29|                 38|                 50|               1014|\n",
      "|2010-11-07|      Penrith|     11|     24|       1|        ENE|           30|       NNE|       NNE|           9|          13|         99|         56|       null|       null|     14|     22|      Yes|          No|             11|             24|             14|               1016|             22|                 56|                 99|               1014|\n",
      "|2011-01-23|      Penrith|     18|     33|       0|        NNE|           35|         N|         N|          11|          17|         68|         31|       null|       null|     23|     32|       No|          No|             18|             33|             23|               1016|             32|                 31|                 68|               1014|\n",
      "+----------+-------------+-------+-------+--------+-----------+-------------+----------+----------+------------+------------+-----------+-----------+-----------+-----------+-------+-------+---------+------------+---------------+---------------+---------------+-------------------+---------------+-------------------+-------------------+-------------------+\n",
      "only showing top 100 rows\n",
      "\n"
     ]
    }
   ],
   "source": [
    "rain_df.show(100)"
   ]
  },
  {
   "cell_type": "code",
   "execution_count": 20,
   "id": "a42b3361",
   "metadata": {},
   "outputs": [
    {
     "name": "stdout",
     "output_type": "stream",
     "text": [
      "+----------+-------------+--------+-----------+-------------+----------+----------+------------+------------+---------+------------+---------------+---------------+---------------+-------------------+---------------+-------------------+-------------------+-------------------+\n",
      "|      Date|     Location|Rainfall|WindGustDir|WindGustSpeed|WindDir9am|WindDir3pm|WindSpeed9am|WindSpeed3pm|RainToday|RainTomorrow|MinTemp_imputed|MaxTemp_imputed|Temp9am_imputed|Pressure9am_imputed|Temp3pm_imputed|Humidity3pm_imputed|Humidity9am_imputed|Pressure3pm_imputed|\n",
      "+----------+-------------+--------+-----------+-------------+----------+----------+------------+------------+---------+------------+---------------+---------------+---------------+-------------------+---------------+-------------------+-------------------+-------------------+\n",
      "|2009-09-30|       Albury|       0|        NNW|           35|         E|       NNE|           7|          17|       No|          No|              4|             21|             11|               1018|             20|                 36|                 75|               1013|\n",
      "|2013-01-10|       Albury|       0|        NNE|           31|        SE|       SSE|           9|          11|       No|          No|             11|             32|             20|               1007|             29|                 24|                 48|               1006|\n",
      "|2013-11-06|       Albury|       0|        NNW|           31|       SSE|        NW|           7|          13|       No|          No|              6|             29|             16|               1021|             28|                 13|                 58|               1016|\n",
      "|2014-02-14|       Albury|       0|        WSW|           28|        SE|       WSW|           9|          13|       No|         Yes|             21|             30|             24|               1006|             30|                 33|                 62|               1003|\n",
      "|2014-10-23|       Albury|       0|         NE|           31|         S|       ESE|           2|          15|       No|          No|             14|             32|             20|               1017|             31|                 31|                 70|               1013|\n",
      "|2015-02-26|       Albury|       0|        WNW|           24|       SSE|       ESE|           9|          11|       No|          No|             18|             29|             20|               1009|             27|                 50|                 71|               1007|\n",
      "|2015-10-06|       Albury|       0|        NNW|           48|       SSE|       NNW|           7|          31|       No|          No|             10|             34|             17|               1020|             33|                 14|                 73|               1016|\n",
      "|2016-01-09|       Albury|       0|        WNW|           28|         E|       SSE|          11|           9|       No|          No|             16|             35|             24|               1018|             33|                 24|                 52|               1015|\n",
      "|2016-02-01|       Albury|      28|        SSE|           28|       SSE|        SW|          17|          13|      Yes|          No|             13|             26|             14|               1004|             24|                 47|                 88|               1003|\n",
      "|2009-06-19|BadgerysCreek|       2|        ESE|           31|        SW|       ESE|          15|          20|      Yes|         Yes|              8|             18|             12|               1030|             15|                 54|                 89|               1028|\n",
      "|2010-04-18|BadgerysCreek|       0|        ENE|           24|       WSW|        NE|           7|           9|       No|          No|             12|             26|             19|               1027|             24|                 52|                 83|               1024|\n",
      "|2010-06-13|BadgerysCreek|       0|         SW|           28|       WSW|       WSW|          20|           4|       No|          No|              3|             17|              9|               1030|             17|                 39|                 68|               1029|\n",
      "|2011-11-28|BadgerysCreek|       0|        ENE|           31|       NNE|       NNE|          11|          19|       No|          No|             13|             31|             21|               1017|             30|                 34|                 66|               1014|\n",
      "|2012-01-10|BadgerysCreek|       0|         SW|           30|         W|       WSW|          11|          13|       No|          No|             14|             29|             22|               1010|             28|                 32|                 44|               1006|\n",
      "|2012-08-09|BadgerysCreek|       0|        WSW|           57|         N|       WSW|           4|          30|       No|          No|              4|             18|             11|               1014|             17|                 28|                 76|               1010|\n",
      "|2012-10-01|BadgerysCreek|       0|        ESE|           41|       SSW|       SSE|           6|           4|       No|          No|              4|             21|             15|               1028|             21|                 32|                 57|               1024|\n",
      "|2013-07-21|BadgerysCreek|       0|          W|           57|        NW|         W|          13|          26|       No|          No|              4|             15|             10|               1015|             14|                 35|                 51|               1013|\n",
      "|2013-08-12|BadgerysCreek|       0|        WNW|           89|       ENE|        NW|           4|          30|       No|          No|              3|             24|             11|               1006|             17|                 52|                 80|               1003|\n",
      "|2013-09-29|BadgerysCreek|       0|        WSW|           44|        SW|        NE|          15|           7|       No|          No|             11|             25|             19|               1017|             24|                 23|                 35|               1013|\n",
      "|2014-09-05|BadgerysCreek|       0|        SSW|           41|       SSW|         S|          22|          15|       No|         Yes|              8|             17|             13|               1022|             15|                 68|                 63|               1022|\n",
      "|2014-11-11|BadgerysCreek|       0|        ESE|           28|        SE|       ESE|           4|          19|       No|          No|             15|             22|             19|               1020|             18|                 74|                 65|               1019|\n",
      "|2015-02-06|BadgerysCreek|       0|        SSE|           24|       SSW|        SE|           6|          13|       No|          No|             15|             25|             18|               1027|             23|                 59|                 80|               1026|\n",
      "|2015-05-05|BadgerysCreek|       0|        WNW|           43|         N|        NW|           7|          24|       No|          No|             12|             25|             15|               1008|             25|                 37|                100|               1003|\n",
      "|2016-06-25|BadgerysCreek|       0|        WSW|           44|       WSW|       WSW|          19|          20|       No|          No|              3|             14|              8|               1018|             13|                 36|                 51|               1018|\n",
      "|2009-07-27|        Cobar|       1|        SSW|           30|       WSW|        SW|           7|          13|      Yes|          No|              4|             11|              6|               1022|             11|                 74|                 99|               1022|\n",
      "|2010-02-13|        Cobar|      22|         NE|           24|       WNW|       SSW|           9|           9|      Yes|         Yes|             20|             23|             21|               1010|             22|                 92|                 97|               1007|\n",
      "|2011-09-17|        Cobar|       0|        NNW|           48|        NW|        NW|           9|          28|       No|          No|             12|             31|             25|               1017|             30|                  3|                  7|               1014|\n",
      "|2011-11-17|        Cobar|       3|        NNE|           35|         E|        NW|           7|           6|      Yes|          No|             16|             26|             18|               1017|             24|                 59|                 86|               1015|\n",
      "|2013-04-09|        Cobar|       0|          E|           31|       ENE|       ESE|          19|          17|       No|          No|             14|             28|             21|               1024|             27|                 19|                 37|               1020|\n",
      "|2014-09-10|        Cobar|       1|        WSW|           50|       WSW|        SW|          22|          15|      Yes|          No|             10|             20|             14|               1016|             19|                 33|                 59|               1015|\n",
      "|2015-05-07|        Cobar|       0|        WSW|           39|       SSW|       WSW|          11|          20|       No|          No|              6|             18|             11|               1023|             17|                 27|                 57|               1021|\n",
      "|2015-08-30|        Cobar|       0|          S|           30|       SSW|       SSW|          15|          13|       No|          No|              2|             15|              9|               1023|             14|                 45|                 60|               1020|\n",
      "|2015-10-02|        Cobar|       0|        ESE|           39|       ESE|        SE|          22|          11|       No|          No|              9|             29|             21|               1032|             29|                  7|                 25|               1028|\n",
      "|2015-11-06|        Cobar|       0|        WSW|           33|        SW|        SW|          19|          17|       No|          No|             17|             26|             21|               1010|             26|                 41|                 60|               1009|\n",
      "|2016-02-07|        Cobar|       0|        SSE|           35|       ENE|       SSE|          17|          15|       No|          No|             21|             34|             24|               1014|             33|                 24|                 53|               1012|\n",
      "|2017-02-12|        Cobar|       0|        SSW|           59|       SSW|        SW|          19|          30|       No|          No|             27|             38|             31|               1002|             35|                 24|                 32|               1003|\n",
      "|2009-03-27| CoffsHarbour|       0|          S|           52|        SW|       SSE|          13|          24|       No|         Yes|             16|             26|             22|               1020|             20|                 92|                 72|               1019|\n",
      "|2009-04-30| CoffsHarbour|       0|         SW|           37|       SSW|         S|          19|          22|       No|          No|             10|             21|             18|               1017|             20|                 43|                 52|               1016|\n",
      "|2009-06-18| CoffsHarbour|      12|        SSE|           39|        SW|        SE|          24|          13|      Yes|         Yes|             12|             16|             15|               1025|             15|                 85|                 72|               1023|\n",
      "|2009-09-05| CoffsHarbour|       1|          S|           44|         S|       SSE|          31|          20|      Yes|          No|             14|             21|             19|               1013|             19|                 53|                 67|               1013|\n",
      "|2009-09-06| CoffsHarbour|       0|         SE|           20|        SE|         E|           6|          17|       No|          No|              9|             21|             19|               1018|             20|                 61|                 41|               1015|\n",
      "|2011-10-25| CoffsHarbour|       0|         NE|           50|       NNW|        NE|          19|          33|       No|         Yes|             16|             29|             24|               1011|             22|                 71|                 50|               1009|\n",
      "|2011-11-06| CoffsHarbour|       0|        NNE|           56|       NNW|       NNE|          11|          39|       No|          No|             15|             27|             23|               1015|             24|                 57|                 61|               1012|\n",
      "|2012-03-03| CoffsHarbour|      20|         SE|           39|        SW|         W|          13|           9|      Yes|         Yes|             19|             22|             19|               1019|             21|                 92|                 96|               1017|\n",
      "|2012-06-07| CoffsHarbour|       0|         SW|           48|        SW|         S|          31|          28|       No|          No|             12|             18|             15|               1020|             17|                 50|                 56|               1019|\n",
      "|2013-12-18| CoffsHarbour|       0|        ESE|           26|       SSE|       ESE|          13|          17|       No|          No|             15|             25|             23|               1023|             25|                 56|                 62|               1022|\n",
      "|2015-04-09| CoffsHarbour|       0|          S|           43|        SW|       SSE|          26|          22|       No|          No|             10|             24|             20|               1019|             23|                 53|                 52|               1017|\n",
      "|2015-08-14| CoffsHarbour|       0|        WSW|           28|       WSW|       ESE|           9|          11|       No|          No|              4|             17|             14|               1025|             17|                 44|                 49|               1023|\n",
      "|2015-09-06| CoffsHarbour|       2|         SW|           31|        SW|        SE|          19|          15|      Yes|         Yes|              9|             19|             17|               1024|             17|                 77|                 77|               1021|\n",
      "|2016-02-28| CoffsHarbour|       0|        SSW|           39|        SW|       SSE|          24|          28|       No|          No|             22|             28|             25|               1016|             27|                 65|                 76|               1015|\n",
      "|2016-07-01| CoffsHarbour|       0|         SW|           28|       WNW|       NNE|           7|          17|       No|          No|              3|             19|             15|               1018|             19|                 44|                 54|               1015|\n",
      "|2016-09-20| CoffsHarbour|       0|        WSW|           26|        SE|       ENE|           6|          15|       No|         Yes|              6|             21|             18|               1018|             19|                 63|                 53|               1016|\n",
      "|2016-09-21| CoffsHarbour|       5|          N|           41|         N|         N|           9|          19|      Yes|         Yes|             14|             22|             17|               1015|             19|                 73|                 77|               1010|\n",
      "|2016-10-13| CoffsHarbour|       0|          S|           61|        SW|         S|          30|          33|       No|         Yes|             12|             21|             18|               1017|             16|                 77|                 52|               1018|\n",
      "|2017-01-08| CoffsHarbour|       0|        ENE|           41|        NE|        NE|          15|          28|       No|          No|             19|             27|             24|               1015|             26|                 57|                 59|               1013|\n",
      "|2017-06-19| CoffsHarbour|       0|         SW|           56|        SW|       SSW|          30|          22|       No|         Yes|             15|             18|             17|               1024|             15|                 94|                 73|               1023|\n",
      "|2009-05-05|        Moree|       0|          E|           30|         E|        SE|          17|           9|       No|          No|              9|             24|             17|               1028|             23|                 27|                 53|               1024|\n",
      "|2009-07-05|        Moree|       0|         SW|           37|         S|       SSW|           9|          20|       No|          No|              3|             15|              8|               1020|             14|                 51|                 82|               1018|\n",
      "|2009-11-18|        Moree|       0|         SW|           46|         N|       SSW|          22|          24|       No|          No|             22|             41|             28|               1008|             40|                  7|                 42|               1004|\n",
      "|2010-04-15|        Moree|       0|        NNE|           28|       NNE|        SE|          19|          11|       No|          No|             11|             28|             21|               1021|             26|                 29|                 56|               1017|\n",
      "|2011-09-16|        Moree|       0|        WSW|           31|       NNE|         W|          11|          11|       No|          No|              6|             27|             18|               1022|             27|                 15|                 38|               1017|\n",
      "|2012-06-21|        Moree|       0|          N|           30|        NE|         N|          17|          17|       No|          No|              2|             20|              9|               1020|             19|                 26|                 70|               1015|\n",
      "|2012-07-30|        Moree|       0|         SW|           39|       SSW|       SSW|          13|          26|       No|          No|              1|             16|              7|               1024|             16|                 33|                 82|               1020|\n",
      "|2012-09-20|        Moree|       0|          N|           33|        NE|         N|          17|           9|       No|         Yes|              7|             29|             21|               1018|             28|                 16|                 32|               1013|\n",
      "|2013-07-22|        Moree|       0|        WNW|           31|        NE|       WNW|          15|          15|       No|          No|              5|             17|             10|               1023|             16|                 41|                 74|               1020|\n",
      "|2013-09-07|        Moree|       0|         NE|           28|       NNE|         W|          19|           2|       No|          No|              8|             29|             19|               1027|             28|                 17|                 39|               1022|\n",
      "|2016-06-15|        Moree|       0|          E|           30|         E|         E|          19|           9|       No|          No|              7|             21|             14|               1031|             21|                 37|                 66|               1027|\n",
      "|2017-02-06|        Moree|       0|         NE|           43|        NE|         N|          31|          17|       No|          No|             24|             39|             27|               1013|             38|                 19|                 54|               1009|\n",
      "|2010-12-21|    NorahHead|       0|         NE|           33|        NW|         W|          17|          11|       No|          No|             13|             27|             21|               1009|             27|                 32|                 44|               1008|\n",
      "|2011-01-27|    NorahHead|       0|        SSW|           54|        SW|         E|           9|          15|       No|          No|             21|             27|             22|               1014|             26|                 76|                 90|               1011|\n",
      "|2011-02-13|    NorahHead|       9|          S|           61|       SSW|       SSW|          22|          35|      Yes|         Yes|             19|             23|             20|               1017|             22|                 87|                 89|               1017|\n",
      "|2011-10-09|    NorahHead|       0|        WSW|           31|       WNW|         W|           7|          11|       No|          No|             13|             23|             17|               1008|             22|                 39|                 81|               1004|\n",
      "|2013-12-13|    NorahHead|       0|         NE|           46|       NNE|        NE|          15|          30|       No|          No|             18|             27|             22|               1012|             25|                 71|                 76|               1010|\n",
      "|2014-09-21|    NorahHead|       3|          S|           31|       WNW|        SE|           2|          13|      Yes|         Yes|             11|             18|             14|               1030|             18|                 69|                 87|               1027|\n",
      "|2014-12-01|    NorahHead|       1|        NNE|           48|       NNE|        NE|          13|          30|      Yes|         Yes|             19|             27|             22|               1011|             22|                 81|                 80|               1008|\n",
      "|2014-12-12|    NorahHead|       1|          S|           78|       SSE|         S|          57|          48|      Yes|          No|             17|             21|             19|               1015|             20|                 69|                 74|               1017|\n",
      "|2016-06-01|    NorahHead|      12|         SE|           22|         W|       SSW|          11|           7|      Yes|          No|             12|             18|             13|               1028|             17|                 73|                 97|               1025|\n",
      "|2017-01-14|    NorahHead|       0|          S|           33|       WNW|         S|           7|           6|       No|          No|             23|             30|             29|               1002|             26|                 77|                 58|               1003|\n",
      "|2017-06-02|    NorahHead|       0|          S|           50|       WSW|        SW|          13|          26|       No|         Yes|              9|             17|             12|               1032|             16|                 64|                 62|               1030|\n",
      "|2009-03-14|NorfolkIsland|       0|          E|           39|       ESE|         E|          20|          24|       No|          No|             19|             23|             20|               1018|             21|                 70|                 75|               1016|\n",
      "|2009-04-12|NorfolkIsland|       0|          E|           46|       ESE|         E|          24|          30|       No|          No|             18|             23|             20|               1027|             21|                 62|                 52|               1024|\n",
      "|2009-09-12|NorfolkIsland|      38|        SSW|           74|        SW|        SW|          35|          35|      Yes|          No|             14|             18|             17|               1015|             17|                 67|                 74|               1014|\n",
      "|2010-05-19|NorfolkIsland|       9|         NW|           57|        NE|       ENE|          13|          26|      Yes|          No|             16|             21|             19|               1015|             20|                 80|                 71|               1011|\n",
      "|2011-08-28|NorfolkIsland|       1|        ENE|           37|       ESE|         E|          17|          24|       No|         Yes|             14|             19|             16|               1023|             17|                 91|                 81|               1020|\n",
      "|2012-02-25|NorfolkIsland|       0|         SE|           48|        SE|        SE|          26|          26|       No|          No|             19|             24|             22|               1021|             23|                 61|                 59|               1020|\n",
      "|2012-04-24|NorfolkIsland|       1|          E|           46|         E|         E|          28|          22|      Yes|          No|             18|             22|             21|               1021|             22|                 69|                 64|               1019|\n",
      "|2012-09-11|NorfolkIsland|       0|         SE|           31|       SSE|       SSE|          17|          15|       No|          No|             14|             18|             16|               1025|             16|                 57|                 54|               1023|\n",
      "|2014-03-01|NorfolkIsland|       0|         SE|           43|        SE|        SE|          22|          28|       No|          No|             19|             23|             22|               1014|             22|                 59|                 64|               1013|\n",
      "|2014-03-29|NorfolkIsland|       0|        ENE|           50|       ENE|         E|          30|          31|       No|          No|             19|             24|             22|               1024|             23|                 60|                 67|               1022|\n",
      "|2014-11-22|NorfolkIsland|       0|        ENE|           31|        NE|       ESE|          11|          19|       No|          No|             17|             22|             20|               1022|             21|                 55|                 53|               1021|\n",
      "|2015-03-14|NorfolkIsland|       0|          E|           56|       ESE|         E|          22|          31|       No|         Yes|             21|             25|             24|               1007|             23|                 85|                 84|               1002|\n",
      "|2015-10-28|NorfolkIsland|       0|        WSW|           46|       NNE|         N|          19|          20|       No|         Yes|             14|             21|             19|               1020|             19|                 67|                 56|               1016|\n",
      "|2016-03-11|NorfolkIsland|       0|          E|           41|         E|         E|          24|          24|       No|          No|             22|             25|             23|               1021|             23|                 84|                 84|               1019|\n",
      "|2016-04-12|NorfolkIsland|       0|        ENE|           28|        NE|         S|          11|           9|       No|         Yes|             17|             25|             22|               1019|             21|                 93|                 82|               1018|\n",
      "|2016-08-01|NorfolkIsland|       0|         SW|           41|       WSW|       WSW|          24|          26|       No|          No|             14|             19|             18|               1016|             18|                 70|                 63|               1014|\n",
      "|2016-12-22|NorfolkIsland|       0|          S|           33|       SSW|       SSW|          13|          17|       No|          No|             18|             24|             22|               1013|             23|                 66|                 77|               1011|\n",
      "|2009-01-06|      Penrith|       0|         NW|           46|       NNW|        NE|           6|          11|       No|          No|             16|             41|             24|               1016|             40|                  9|                 71|               1014|\n",
      "|2010-03-09|      Penrith|       0|        WNW|           41|       NNW|         W|          17|          24|       No|          No|             16|             30|             22|               1016|             29|                 38|                 50|               1014|\n",
      "|2010-11-07|      Penrith|       1|        ENE|           30|       NNE|       NNE|           9|          13|      Yes|          No|             11|             24|             14|               1016|             22|                 56|                 99|               1014|\n",
      "|2011-01-23|      Penrith|       0|        NNE|           35|         N|         N|          11|          17|       No|          No|             18|             33|             23|               1016|             32|                 31|                 68|               1014|\n",
      "+----------+-------------+--------+-----------+-------------+----------+----------+------------+------------+---------+------------+---------------+---------------+---------------+-------------------+---------------+-------------------+-------------------+-------------------+\n",
      "only showing top 100 rows\n",
      "\n"
     ]
    }
   ],
   "source": [
    "rain_df=rain_df.drop('MinTemp','MaxTemp','Humidity9am','Humidity3pm','Pressure9am','Pressure3pm','Temp9am','Temp3pm')\n",
    "rain_df.show(100)"
   ]
  },
  {
   "cell_type": "code",
   "execution_count": 21,
   "id": "4272a429",
   "metadata": {},
   "outputs": [
    {
     "name": "stdout",
     "output_type": "stream",
     "text": [
      "+----+--------+--------+-----------+-------------+----------+----------+------------+------------+---------+------------+---------------+---------------+---------------+-------------------+---------------+-------------------+-------------------+-------------------+\n",
      "|Date|Location|Rainfall|WindGustDir|WindGustSpeed|WindDir9am|WindDir3pm|WindSpeed9am|WindSpeed3pm|RainToday|RainTomorrow|MinTemp_imputed|MaxTemp_imputed|Temp9am_imputed|Pressure9am_imputed|Temp3pm_imputed|Humidity3pm_imputed|Humidity9am_imputed|Pressure3pm_imputed|\n",
      "+----+--------+--------+-----------+-------------+----------+----------+------------+------------+---------+------------+---------------+---------------+---------------+-------------------+---------------+-------------------+-------------------+-------------------+\n",
      "|   0|       0|       0|          0|            0|         0|         0|           0|           0|        0|           0|              0|              0|              0|                  0|              0|                  0|                  0|                  0|\n",
      "+----+--------+--------+-----------+-------------+----------+----------+------------+------------+---------+------------+---------------+---------------+---------------+-------------------+---------------+-------------------+-------------------+-------------------+\n",
      "\n"
     ]
    }
   ],
   "source": [
    "rain_df.select([count(when(isnull(c), c)).alias(c) for c in rain_df.columns]).show()"
   ]
  },
  {
   "cell_type": "code",
   "execution_count": 22,
   "id": "50635864",
   "metadata": {},
   "outputs": [
    {
     "name": "stdout",
     "output_type": "stream",
     "text": [
      "123710\n"
     ]
    }
   ],
   "source": [
    "print(rain_df.count())"
   ]
  },
  {
   "cell_type": "code",
   "execution_count": 23,
   "id": "7258762f",
   "metadata": {
    "scrolled": true
   },
   "outputs": [
    {
     "name": "stdout",
     "output_type": "stream",
     "text": [
      "+-------------+--------+-----------+-------------+----------+----------+------------+------------+---------+------------+---------------+---------------+---------------+-------------------+---------------+-------------------+-------------------+-------------------+----+-----+---+\n",
      "|     Location|Rainfall|WindGustDir|WindGustSpeed|WindDir9am|WindDir3pm|WindSpeed9am|WindSpeed3pm|RainToday|RainTomorrow|MinTemp_imputed|MaxTemp_imputed|Temp9am_imputed|Pressure9am_imputed|Temp3pm_imputed|Humidity3pm_imputed|Humidity9am_imputed|Pressure3pm_imputed|Year|Month|Day|\n",
      "+-------------+--------+-----------+-------------+----------+----------+------------+------------+---------+------------+---------------+---------------+---------------+-------------------+---------------+-------------------+-------------------+-------------------+----+-----+---+\n",
      "|       Albury|       0|        NNW|           35|         E|       NNE|           7|          17|       No|          No|              4|             21|             11|               1018|             20|                 36|                 75|               1013|2009|   09| 30|\n",
      "|       Albury|       0|        NNE|           31|        SE|       SSE|           9|          11|       No|          No|             11|             32|             20|               1007|             29|                 24|                 48|               1006|2013|   01| 10|\n",
      "|       Albury|       0|        NNW|           31|       SSE|        NW|           7|          13|       No|          No|              6|             29|             16|               1021|             28|                 13|                 58|               1016|2013|   11| 06|\n",
      "|       Albury|       0|        WSW|           28|        SE|       WSW|           9|          13|       No|         Yes|             21|             30|             24|               1006|             30|                 33|                 62|               1003|2014|   02| 14|\n",
      "|       Albury|       0|         NE|           31|         S|       ESE|           2|          15|       No|          No|             14|             32|             20|               1017|             31|                 31|                 70|               1013|2014|   10| 23|\n",
      "|       Albury|       0|        WNW|           24|       SSE|       ESE|           9|          11|       No|          No|             18|             29|             20|               1009|             27|                 50|                 71|               1007|2015|   02| 26|\n",
      "|       Albury|       0|        NNW|           48|       SSE|       NNW|           7|          31|       No|          No|             10|             34|             17|               1020|             33|                 14|                 73|               1016|2015|   10| 06|\n",
      "|       Albury|       0|        WNW|           28|         E|       SSE|          11|           9|       No|          No|             16|             35|             24|               1018|             33|                 24|                 52|               1015|2016|   01| 09|\n",
      "|       Albury|      28|        SSE|           28|       SSE|        SW|          17|          13|      Yes|          No|             13|             26|             14|               1004|             24|                 47|                 88|               1003|2016|   02| 01|\n",
      "|BadgerysCreek|       2|        ESE|           31|        SW|       ESE|          15|          20|      Yes|         Yes|              8|             18|             12|               1030|             15|                 54|                 89|               1028|2009|   06| 19|\n",
      "+-------------+--------+-----------+-------------+----------+----------+------------+------------+---------+------------+---------------+---------------+---------------+-------------------+---------------+-------------------+-------------------+-------------------+----+-----+---+\n",
      "only showing top 10 rows\n",
      "\n"
     ]
    }
   ],
   "source": [
    "split_date=pyspark.sql.functions.split(rain_df['Date'], '-')     \n",
    "rain_df= rain_df.withColumn('Year', split_date.getItem(0))\n",
    "rain_df= rain_df.withColumn('Month', split_date.getItem(1))\n",
    "rain_df= rain_df.withColumn('Day', split_date.getItem(2))\n",
    "rain_df=rain_df.drop('Date')\n",
    "rain_df.show(10)"
   ]
  },
  {
   "cell_type": "code",
   "execution_count": 24,
   "id": "9af5483b",
   "metadata": {},
   "outputs": [
    {
     "data": {
      "text/plain": [
       "[('Location', 'string'),\n",
       " ('Rainfall', 'int'),\n",
       " ('WindGustDir', 'string'),\n",
       " ('WindGustSpeed', 'int'),\n",
       " ('WindDir9am', 'string'),\n",
       " ('WindDir3pm', 'string'),\n",
       " ('WindSpeed9am', 'int'),\n",
       " ('WindSpeed3pm', 'int'),\n",
       " ('RainToday', 'string'),\n",
       " ('RainTomorrow', 'string'),\n",
       " ('MinTemp_imputed', 'int'),\n",
       " ('MaxTemp_imputed', 'int'),\n",
       " ('Temp9am_imputed', 'int'),\n",
       " ('Pressure9am_imputed', 'int'),\n",
       " ('Temp3pm_imputed', 'int'),\n",
       " ('Humidity3pm_imputed', 'int'),\n",
       " ('Humidity9am_imputed', 'int'),\n",
       " ('Pressure3pm_imputed', 'int'),\n",
       " ('Year', 'string'),\n",
       " ('Month', 'string'),\n",
       " ('Day', 'string')]"
      ]
     },
     "execution_count": 24,
     "metadata": {},
     "output_type": "execute_result"
    }
   ],
   "source": [
    "rain_df.dtypes"
   ]
  },
  {
   "cell_type": "code",
   "execution_count": 25,
   "id": "34a8d75e",
   "metadata": {},
   "outputs": [
    {
     "name": "stdout",
     "output_type": "stream",
     "text": [
      "+-------------+--------+-----------+-------------+----------+----------+------------+------------+------------+---------------+---------------+---------------+-------------------+---------------+-------------------+-------------------+-------------------+----+-----+---+\n",
      "|     Location|Rainfall|WindGustDir|WindGustSpeed|WindDir9am|WindDir3pm|WindSpeed9am|WindSpeed3pm|RainTomorrow|MinTemp_imputed|MaxTemp_imputed|Temp9am_imputed|Pressure9am_imputed|Temp3pm_imputed|Humidity3pm_imputed|Humidity9am_imputed|Pressure3pm_imputed|Year|Month|Day|\n",
      "+-------------+--------+-----------+-------------+----------+----------+------------+------------+------------+---------------+---------------+---------------+-------------------+---------------+-------------------+-------------------+-------------------+----+-----+---+\n",
      "|       Albury|       0|        NNW|           35|         E|       NNE|           7|          17|          No|              4|             21|             11|               1018|             20|                 36|                 75|               1013|2009|   09| 30|\n",
      "|       Albury|       0|        NNE|           31|        SE|       SSE|           9|          11|          No|             11|             32|             20|               1007|             29|                 24|                 48|               1006|2013|   01| 10|\n",
      "|       Albury|       0|        NNW|           31|       SSE|        NW|           7|          13|          No|              6|             29|             16|               1021|             28|                 13|                 58|               1016|2013|   11| 06|\n",
      "|       Albury|       0|        WSW|           28|        SE|       WSW|           9|          13|         Yes|             21|             30|             24|               1006|             30|                 33|                 62|               1003|2014|   02| 14|\n",
      "|       Albury|       0|         NE|           31|         S|       ESE|           2|          15|          No|             14|             32|             20|               1017|             31|                 31|                 70|               1013|2014|   10| 23|\n",
      "|       Albury|       0|        WNW|           24|       SSE|       ESE|           9|          11|          No|             18|             29|             20|               1009|             27|                 50|                 71|               1007|2015|   02| 26|\n",
      "|       Albury|       0|        NNW|           48|       SSE|       NNW|           7|          31|          No|             10|             34|             17|               1020|             33|                 14|                 73|               1016|2015|   10| 06|\n",
      "|       Albury|       0|        WNW|           28|         E|       SSE|          11|           9|          No|             16|             35|             24|               1018|             33|                 24|                 52|               1015|2016|   01| 09|\n",
      "|       Albury|      28|        SSE|           28|       SSE|        SW|          17|          13|          No|             13|             26|             14|               1004|             24|                 47|                 88|               1003|2016|   02| 01|\n",
      "|BadgerysCreek|       2|        ESE|           31|        SW|       ESE|          15|          20|         Yes|              8|             18|             12|               1030|             15|                 54|                 89|               1028|2009|   06| 19|\n",
      "+-------------+--------+-----------+-------------+----------+----------+------------+------------+------------+---------------+---------------+---------------+-------------------+---------------+-------------------+-------------------+-------------------+----+-----+---+\n",
      "only showing top 10 rows\n",
      "\n"
     ]
    }
   ],
   "source": [
    "rain_df=rain_df.drop('RainToday')\n",
    "rain_df.show(10)"
   ]
  },
  {
   "cell_type": "code",
   "execution_count": 26,
   "id": "c83275a5",
   "metadata": {},
   "outputs": [],
   "source": [
    "numericColumns = [item[0] for item in rain_df.dtypes if item[1].startswith('int') ]\n",
    "categoricalColumns = [item[0] for item in rain_df.dtypes if item[1].startswith('string') ]\n",
    "cols = rain_df.columns"
   ]
  },
  {
   "cell_type": "code",
   "execution_count": 27,
   "id": "077dbdf8",
   "metadata": {},
   "outputs": [],
   "source": [
    "from pyspark.ml.feature import OneHotEncoder, StringIndexer, VectorAssembler\n",
    "\n",
    "stages = []\n",
    "for categoricalCol in categoricalColumns:\n",
    "    stringIndexer = StringIndexer(inputCol = categoricalCol, outputCol = categoricalCol + 'Index')\n",
    "    encoder = OneHotEncoder(inputCols=[stringIndexer.getOutputCol()], outputCols=[categoricalCol + \"classVec\"])\n",
    "    stages += [stringIndexer, encoder]\n",
    "label_stringIdx = StringIndexer(inputCol = 'RainTomorrow', outputCol = 'label')\n",
    "stages += [label_stringIdx]\n",
    "assemblerInputs = [c + \"classVec\" for c in categoricalColumns] + numericColumns\n",
    "assembler = VectorAssembler(inputCols=assemblerInputs, outputCol=\"features\")\n",
    "stages += [assembler]"
   ]
  },
  {
   "cell_type": "code",
   "execution_count": 28,
   "id": "3a589816",
   "metadata": {},
   "outputs": [
    {
     "name": "stdout",
     "output_type": "stream",
     "text": [
      "root\n",
      " |-- label: double (nullable = false)\n",
      " |-- features: vector (nullable = true)\n",
      " |-- Location: string (nullable = true)\n",
      " |-- Rainfall: integer (nullable = true)\n",
      " |-- WindGustDir: string (nullable = true)\n",
      " |-- WindGustSpeed: integer (nullable = true)\n",
      " |-- WindDir9am: string (nullable = true)\n",
      " |-- WindDir3pm: string (nullable = true)\n",
      " |-- WindSpeed9am: integer (nullable = true)\n",
      " |-- WindSpeed3pm: integer (nullable = true)\n",
      " |-- RainTomorrow: string (nullable = true)\n",
      " |-- MinTemp_imputed: integer (nullable = true)\n",
      " |-- MaxTemp_imputed: integer (nullable = true)\n",
      " |-- Temp9am_imputed: integer (nullable = true)\n",
      " |-- Pressure9am_imputed: integer (nullable = true)\n",
      " |-- Temp3pm_imputed: integer (nullable = true)\n",
      " |-- Humidity3pm_imputed: integer (nullable = true)\n",
      " |-- Humidity9am_imputed: integer (nullable = true)\n",
      " |-- Pressure3pm_imputed: integer (nullable = true)\n",
      " |-- Year: string (nullable = true)\n",
      " |-- Month: string (nullable = true)\n",
      " |-- Day: string (nullable = true)\n",
      "\n"
     ]
    }
   ],
   "source": [
    "from pyspark.ml import Pipeline\n",
    "pipeline = Pipeline(stages = stages)\n",
    "pipelineModel = pipeline.fit(rain_df)\n",
    "rain_df = pipelineModel.transform(rain_df)\n",
    "selectedCols = ['label', 'features'] + cols\n",
    "rain_df = rain_df.select(selectedCols)\n",
    "rain_df.printSchema()"
   ]
  },
  {
   "cell_type": "code",
   "execution_count": 48,
   "id": "2573f83b",
   "metadata": {},
   "outputs": [
    {
     "name": "stdout",
     "output_type": "stream",
     "text": [
      "+-----+-----+\n",
      "|label|count|\n",
      "+-----+-----+\n",
      "|  0.0|96318|\n",
      "|  1.0|27392|\n",
      "+-----+-----+\n",
      "\n"
     ]
    }
   ],
   "source": [
    "rain_df.groupBy('label').count().show()"
   ]
  },
  {
   "cell_type": "code",
   "execution_count": 29,
   "id": "9cbe5402",
   "metadata": {
    "scrolled": true
   },
   "outputs": [
    {
     "name": "stdout",
     "output_type": "stream",
     "text": [
      "+-----+--------------------+-------------+--------+-----------+-------------+----------+----------+------------+------------+------------+---------------+---------------+---------------+-------------------+---------------+-------------------+-------------------+-------------------+----+-----+---+\n",
      "|label|            features|     Location|Rainfall|WindGustDir|WindGustSpeed|WindDir9am|WindDir3pm|WindSpeed9am|WindSpeed3pm|RainTomorrow|MinTemp_imputed|MaxTemp_imputed|Temp9am_imputed|Pressure9am_imputed|Temp3pm_imputed|Humidity3pm_imputed|Humidity9am_imputed|Pressure3pm_imputed|Year|Month|Day|\n",
      "+-----+--------------------+-------------+--------+-----------+-------------+----------+----------+------------+------------+------------+---------------+---------------+---------------+-------------------+---------------+-------------------+-------------------+-------------------+----+-----+---+\n",
      "|  0.0|(155,[36,64,79,91...|       Albury|       0|        NNE|           31|        SE|       SSE|           9|          11|          No|             11|             32|             20|               1007|             29|                 24|                 48|               1006|2013|   01| 10|\n",
      "|  0.0|(155,[36,59,65,84...|       Albury|       0|         NE|           31|         S|       ESE|           2|          15|          No|             14|             32|             20|               1017|             31|                 31|                 70|               1013|2014|   10| 23|\n",
      "|  0.0|(155,[36,55,63,79...|       Albury|       0|        WNW|           28|         E|       SSE|          11|           9|          No|             16|             35|             24|               1018|             33|                 24|                 52|               1015|2016|   01| 09|\n",
      "|  0.0|(155,[35,56,67,91...|BadgerysCreek|       0|        ENE|           31|       NNE|       NNE|          11|          19|          No|             13|             31|             21|               1017|             30|                 34|                 66|               1014|2011|   11| 28|\n",
      "|  0.0|(155,[35,58,73,79...|BadgerysCreek|       0|        ESE|           41|       SSW|       SSE|           6|           4|          No|              4|             21|             15|               1028|             21|                 32|                 57|               1024|2012|   10| 01|\n",
      "|  0.0|(155,[35,55,70,87...|BadgerysCreek|       0|        WNW|           89|       ENE|        NW|           4|          30|          No|              3|             24|             11|               1006|             17|                 52|                 80|               1003|2013|   08| 12|\n",
      "|  0.0|(155,[35,49,73,77...|BadgerysCreek|       0|        SSE|           24|       SSW|        SE|           6|          13|          No|             15|             25|             18|               1027|             23|                 59|                 80|               1026|2015|   02| 06|\n",
      "|  0.0|(155,[35,55,61,87...|BadgerysCreek|       0|        WNW|           43|         N|        NW|           7|          24|          No|             12|             25|             15|               1008|             25|                 37|                100|               1003|2015|   05| 05|\n",
      "|  0.0|(155,[6,63,87,91,...|        Cobar|       3|        NNE|           35|         E|        NW|           7|           6|          No|             16|             26|             18|               1017|             24|                 59|                 86|               1015|2011|   11| 17|\n",
      "|  0.0|(155,[6,51,73,80,...|        Cobar|       0|        WSW|           39|       SSW|       WSW|          11|          20|          No|              6|             18|             11|               1023|             17|                 27|                 57|               1021|2015|   05| 07|\n",
      "|  0.0|(155,[6,50,73,86,...|        Cobar|       0|          S|           30|       SSW|       SSW|          15|          13|          No|              2|             15|              9|               1023|             14|                 45|                 60|               1020|2015|   08| 30|\n",
      "|  0.0|(155,[6,58,72,77,...|        Cobar|       0|        ESE|           39|       ESE|        SE|          22|          11|          No|              9|             29|             21|               1032|             29|                  7|                 25|               1028|2015|   10| 02|\n",
      "|  0.0|(155,[30,50,65,79...| CoffsHarbour|       1|          S|           44|         S|       SSE|          31|          20|          No|             14|             21|             19|               1013|             19|                 53|                 67|               1013|2009|   09| 05|\n",
      "|  0.0|(155,[30,47,64,85...| CoffsHarbour|       0|         SE|           20|        SE|         E|           6|          17|          No|              9|             21|             19|               1018|             20|                 61|                 41|               1015|2009|   09| 06|\n",
      "|  0.0|(155,[30,54,66,79...| CoffsHarbour|       0|        SSW|           39|        SW|       SSE|          24|          28|          No|             22|             28|             25|               1016|             27|                 65|                 76|               1015|2016|   02| 28|\n",
      "|  0.0|(155,[29,51,67,76...|        Moree|       0|        WSW|           31|       NNE|         W|          11|          11|          No|              6|             27|             18|               1022|             27|                 15|                 38|               1017|2011|   09| 16|\n",
      "|  0.0|(155,[29,59,67,76...|        Moree|       0|         NE|           28|       NNE|         W|          19|           2|          No|              8|             29|             19|               1027|             28|                 17|                 39|               1022|2013|   09| 07|\n",
      "|  0.0|(155,[29,48,63,85...|        Moree|       0|          E|           30|         E|         E|          19|           9|          No|              7|             21|             14|               1031|             21|                 37|                 66|               1027|2016|   06| 15|\n",
      "|  0.0|(155,[21,59,69,76...|    NorahHead|       0|         NE|           33|        NW|         W|          17|          11|          No|             13|             27|             21|               1009|             27|                 32|                 44|               1008|2010|   12| 21|\n",
      "|  0.0|(155,[21,59,67,88...|    NorahHead|       0|         NE|           46|       NNE|        NE|          15|          30|          No|             18|             27|             22|               1012|             25|                 71|                 76|               1010|2013|   12| 13|\n",
      "+-----+--------------------+-------------+--------+-----------+-------------+----------+----------+------------+------------+------------+---------------+---------------+---------------+-------------------+---------------+-------------------+-------------------+-------------------+----+-----+---+\n",
      "only showing top 20 rows\n",
      "\n",
      "59534\n",
      "+-----+-----+\n",
      "|label|count|\n",
      "+-----+-----+\n",
      "|  0.0|32142|\n",
      "|  1.0|27392|\n",
      "+-----+-----+\n",
      "\n"
     ]
    }
   ],
   "source": [
    "Majorityclass = rain_df.filter(col(\"label\") == 0)\n",
    "Minorityclass = rain_df.filter(col(\"label\") == 1)\n",
    "imbalance= int(Majorityclass.count()/Minorityclass.count())\n",
    "\n",
    "Majority_sam = Majorityclass.sample(False, 1/imbalance)\n",
    "Undersam = Majority_sam.unionAll(Minorityclass)\n",
    "Undersam.show()\n",
    "print(Undersam.count())\n",
    "Undersam.groupBy('label').count().show()\n"
   ]
  },
  {
   "cell_type": "code",
   "execution_count": 30,
   "id": "db46d4ab",
   "metadata": {},
   "outputs": [
    {
     "name": "stdout",
     "output_type": "stream",
     "text": [
      "+----------------+-----+\n",
      "|        Location|count|\n",
      "+----------------+-----+\n",
      "|          Cairns| 1574|\n",
      "|   NorfolkIsland| 1519|\n",
      "|         Bendigo| 1234|\n",
      "|         Walpole| 1400|\n",
      "|        Canberra| 1277|\n",
      "|         Woomera| 1095|\n",
      "|        Adelaide| 1303|\n",
      "|           Cobar| 1234|\n",
      "|   SydneyAirport| 1460|\n",
      "|    PerthAirport| 1385|\n",
      "|      Wollongong| 1378|\n",
      "|     Williamtown| 1085|\n",
      "|           Moree| 1123|\n",
      "|         Mildura| 1217|\n",
      "|        Portland| 1674|\n",
      "|      SalmonGums| 1295|\n",
      "|        Brisbane| 1453|\n",
      "|          Sydney| 1164|\n",
      "|           Perth| 1475|\n",
      "|            Sale| 1276|\n",
      "|   BadgerysCreek| 1118|\n",
      "|          Hobart| 1555|\n",
      "|     Tuggeranong| 1073|\n",
      "|        Ballarat| 1417|\n",
      "|       GoldCoast| 1440|\n",
      "|MelbourneAirport| 1412|\n",
      "|        Dartmoor| 1355|\n",
      "|            Nhil|  644|\n",
      "|      PearceRAAF| 1129|\n",
      "|          Albury| 1168|\n",
      "|     Witchcliffe| 1426|\n",
      "|      WaggaWagga| 1307|\n",
      "|          Darwin| 1587|\n",
      "|           Uluru|  580|\n",
      "|       Nuriootpa| 1317|\n",
      "|    CoffsHarbour| 1362|\n",
      "|       Melbourne| 1067|\n",
      "|         Penrith| 1106|\n",
      "|    MountGambier| 1555|\n",
      "|       NorahHead| 1466|\n",
      "|       Katherine|  640|\n",
      "|     MountGinini| 1325|\n",
      "|      Townsville| 1259|\n",
      "|    AliceSprings| 1059|\n",
      "|        Watsonia| 1369|\n",
      "|        Richmond|  969|\n",
      "|      Launceston| 1208|\n",
      "+----------------+-----+\n",
      "\n"
     ]
    }
   ],
   "source": [
    "Undersam.groupBy('Location').count().show(100)"
   ]
  },
  {
   "cell_type": "code",
   "execution_count": 31,
   "id": "93322b3b",
   "metadata": {},
   "outputs": [
    {
     "name": "stdout",
     "output_type": "stream",
     "text": [
      "Training Dataset Count: 47548\n",
      "Test Dataset Count: 11986\n"
     ]
    }
   ],
   "source": [
    "train_df, test_df = Undersam.randomSplit([0.8, 0.2],)\n",
    "print(\"Training Dataset Count: \" + str(train_df.count()))\n",
    "print(\"Test Dataset Count: \" + str(test_df.count()))"
   ]
  },
  {
   "cell_type": "code",
   "execution_count": 49,
   "id": "03007fa0",
   "metadata": {},
   "outputs": [
    {
     "name": "stdout",
     "output_type": "stream",
     "text": [
      "Test area under AOC 0.9999997478113174\n",
      "Accuracy: 1.0\n",
      "[[6471    0]\n",
      " [   0 5515]]\n"
     ]
    }
   ],
   "source": [
    "from pyspark.ml.classification import LogisticRegression\n",
    "from pyspark.ml.evaluation import BinaryClassificationEvaluator\n",
    "lr = (LogisticRegression(featuresCol = 'features', labelCol = 'label',maxIter=100))\n",
    "lrModel = lr.fit(train_df)\n",
    "lrpredicted=lrModel.transform(test_df)\n",
    "evaluator= BinaryClassificationEvaluator()\n",
    "print('Test area under AOC',evaluator.evaluate(lrpredicted))\n",
    "accuracy=lrpredicted.filter(lrpredicted.label==lrpredicted.prediction).count()/float(lrpredicted.count())\n",
    "print('Accuracy:',accuracy)\n",
    "y_true=lrpredicted.select(['label']).collect()\n",
    "y_pred=lrpredicted.select(['prediction']).collect()\n",
    "from sklearn.metrics import confusion_matrix\n",
    "print(confusion_matrix(y_true,y_pred))"
   ]
  },
  {
   "cell_type": "code",
   "execution_count": null,
   "id": "d71598a1",
   "metadata": {},
   "outputs": [],
   "source": []
  }
 ],
 "metadata": {
  "kernelspec": {
   "display_name": "Python 3",
   "language": "python",
   "name": "python3"
  },
  "language_info": {
   "codemirror_mode": {
    "name": "ipython",
    "version": 3
   },
   "file_extension": ".py",
   "mimetype": "text/x-python",
   "name": "python",
   "nbconvert_exporter": "python",
   "pygments_lexer": "ipython3",
   "version": "3.8.8"
  }
 },
 "nbformat": 4,
 "nbformat_minor": 5
}
